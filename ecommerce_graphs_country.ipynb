{
 "metadata": {
  "language_info": {
   "codemirror_mode": {
    "name": "ipython",
    "version": 3
   },
   "file_extension": ".py",
   "mimetype": "text/x-python",
   "name": "python",
   "nbconvert_exporter": "python",
   "pygments_lexer": "ipython3",
   "version": "3.8.5-final"
  },
  "orig_nbformat": 2,
  "kernelspec": {
   "name": "python3",
   "display_name": "Python 3.8.5 64-bit (conda)",
   "metadata": {
    "interpreter": {
     "hash": "b3ba2566441a7c06988d0923437866b63cedc61552a5af99d1f4fb67d367b25f"
    }
   }
  }
 },
 "nbformat": 4,
 "nbformat_minor": 2,
 "cells": [
  {
   "cell_type": "code",
   "execution_count": 2,
   "metadata": {},
   "outputs": [],
   "source": [
    "import pandas as pd\n",
    "import numpy as np\n",
    "import matplotlib.pyplot as plt\n",
    "import seaborn as sns\n",
    "import plotly.express as px\n",
    "import chart_studio.plotly as py\n",
    "import plotly.graph_objects as go"
   ]
  },
  {
   "cell_type": "code",
   "execution_count": 3,
   "metadata": {},
   "outputs": [],
   "source": [
    "df = pd.read_csv('g_turnover_country.csv')"
   ]
  },
  {
   "cell_type": "code",
   "execution_count": 4,
   "metadata": {},
   "outputs": [],
   "source": [
    "df = df.sort_values('sum_order')"
   ]
  },
  {
   "cell_type": "code",
   "execution_count": 5,
   "metadata": {},
   "outputs": [
    {
     "output_type": "execute_result",
     "data": {
      "text/plain": [
       "    orders  number_customers               Country     sum_order  \\\n",
       "0        1                 1          Saudi Arabia  7.346600e+03   \n",
       "1        1                 1                   RSA  2.689056e+04   \n",
       "2        3                 3               Bahrain  4.027300e+04   \n",
       "3        1                 1               Lebanon  4.428431e+04   \n",
       "4        1                 1                Brazil  4.518014e+04   \n",
       "5        4                 1             Lithuania  6.010738e+04   \n",
       "6        3                 1    European Community  6.018319e+04   \n",
       "7        2                 2  United Arab Emirates  8.016284e+04   \n",
       "8        2                 1        Czech Republic  8.818802e+04   \n",
       "9        5                 2                 Malta  1.295723e+05   \n",
       "10       5                 4                Greece  1.357776e+05   \n",
       "11       7                 1               Iceland  2.130988e+05   \n",
       "12       5                 4                Canada  2.262479e+05   \n",
       "13       5                 4                   USA  2.684690e+05   \n",
       "14      13                 5               Unknown  3.171550e+05   \n",
       "15      19                 6                Poland  3.713358e+05   \n",
       "16      17                11               Austria  4.359373e+05   \n",
       "17      10                 1             Hong Kong  4.394435e+05   \n",
       "18       8                 4                Israel  5.070676e+05   \n",
       "19      18                 9               Denmark  6.583268e+05   \n",
       "20       7                 1             Singapore  7.359547e+05   \n",
       "21      15                 8                Cyprus  8.547523e+05   \n",
       "22      35                14                 Italy  9.619981e+05   \n",
       "23      26                 9       Channel Islands  9.854792e+05   \n",
       "24      41                12               Finland  1.055097e+06   \n",
       "25      56                20              Portugal  1.675362e+06   \n",
       "26      33                10                Norway  1.738513e+06   \n",
       "27      98                25               Belgium  2.439079e+06   \n",
       "28      88                30                 Spain  2.677249e+06   \n",
       "29      50                22           Switzerland  2.720086e+06   \n",
       "30      19                 8                 Japan  3.045999e+06   \n",
       "31      34                 8                Sweden  4.348121e+06   \n",
       "32      56                 9             Australia  9.599049e+06   \n",
       "33     449                94                    UK  1.106692e+07   \n",
       "34     387                88                France  1.123973e+07   \n",
       "35     288                 4               Ireland  1.558200e+07   \n",
       "36      94                 9           Netherlands  2.156709e+07   \n",
       "37   18718              3921                    DE  4.958645e+08   \n",
       "\n",
       "    average_order  \n",
       "0         7346.60  \n",
       "1        26890.56  \n",
       "2        13424.33  \n",
       "3        44284.31  \n",
       "4        45180.14  \n",
       "5        15026.84  \n",
       "6        20061.06  \n",
       "7        40081.42  \n",
       "8        44094.01  \n",
       "9        25914.45  \n",
       "10       27155.52  \n",
       "11       30442.69  \n",
       "12       45249.57  \n",
       "13       53693.79  \n",
       "14       24396.53  \n",
       "15       19543.99  \n",
       "16       25643.37  \n",
       "17       43944.35  \n",
       "18       63383.45  \n",
       "19       36573.71  \n",
       "20      105136.39  \n",
       "21       56983.49  \n",
       "22       27485.66  \n",
       "23       37903.04  \n",
       "24       25734.07  \n",
       "25       29917.19  \n",
       "26       52682.22  \n",
       "27       24888.56  \n",
       "28       30423.28  \n",
       "29       54401.71  \n",
       "30      160315.73  \n",
       "31      127885.92  \n",
       "32      171411.59  \n",
       "33       24647.93  \n",
       "34       29043.22  \n",
       "35       54104.17  \n",
       "36      229437.13  \n",
       "37       26491.32  "
      ],
      "text/html": "<div>\n<style scoped>\n    .dataframe tbody tr th:only-of-type {\n        vertical-align: middle;\n    }\n\n    .dataframe tbody tr th {\n        vertical-align: top;\n    }\n\n    .dataframe thead th {\n        text-align: right;\n    }\n</style>\n<table border=\"1\" class=\"dataframe\">\n  <thead>\n    <tr style=\"text-align: right;\">\n      <th></th>\n      <th>orders</th>\n      <th>number_customers</th>\n      <th>Country</th>\n      <th>sum_order</th>\n      <th>average_order</th>\n    </tr>\n  </thead>\n  <tbody>\n    <tr>\n      <th>0</th>\n      <td>1</td>\n      <td>1</td>\n      <td>Saudi Arabia</td>\n      <td>7.346600e+03</td>\n      <td>7346.60</td>\n    </tr>\n    <tr>\n      <th>1</th>\n      <td>1</td>\n      <td>1</td>\n      <td>RSA</td>\n      <td>2.689056e+04</td>\n      <td>26890.56</td>\n    </tr>\n    <tr>\n      <th>2</th>\n      <td>3</td>\n      <td>3</td>\n      <td>Bahrain</td>\n      <td>4.027300e+04</td>\n      <td>13424.33</td>\n    </tr>\n    <tr>\n      <th>3</th>\n      <td>1</td>\n      <td>1</td>\n      <td>Lebanon</td>\n      <td>4.428431e+04</td>\n      <td>44284.31</td>\n    </tr>\n    <tr>\n      <th>4</th>\n      <td>1</td>\n      <td>1</td>\n      <td>Brazil</td>\n      <td>4.518014e+04</td>\n      <td>45180.14</td>\n    </tr>\n    <tr>\n      <th>5</th>\n      <td>4</td>\n      <td>1</td>\n      <td>Lithuania</td>\n      <td>6.010738e+04</td>\n      <td>15026.84</td>\n    </tr>\n    <tr>\n      <th>6</th>\n      <td>3</td>\n      <td>1</td>\n      <td>European Community</td>\n      <td>6.018319e+04</td>\n      <td>20061.06</td>\n    </tr>\n    <tr>\n      <th>7</th>\n      <td>2</td>\n      <td>2</td>\n      <td>United Arab Emirates</td>\n      <td>8.016284e+04</td>\n      <td>40081.42</td>\n    </tr>\n    <tr>\n      <th>8</th>\n      <td>2</td>\n      <td>1</td>\n      <td>Czech Republic</td>\n      <td>8.818802e+04</td>\n      <td>44094.01</td>\n    </tr>\n    <tr>\n      <th>9</th>\n      <td>5</td>\n      <td>2</td>\n      <td>Malta</td>\n      <td>1.295723e+05</td>\n      <td>25914.45</td>\n    </tr>\n    <tr>\n      <th>10</th>\n      <td>5</td>\n      <td>4</td>\n      <td>Greece</td>\n      <td>1.357776e+05</td>\n      <td>27155.52</td>\n    </tr>\n    <tr>\n      <th>11</th>\n      <td>7</td>\n      <td>1</td>\n      <td>Iceland</td>\n      <td>2.130988e+05</td>\n      <td>30442.69</td>\n    </tr>\n    <tr>\n      <th>12</th>\n      <td>5</td>\n      <td>4</td>\n      <td>Canada</td>\n      <td>2.262479e+05</td>\n      <td>45249.57</td>\n    </tr>\n    <tr>\n      <th>13</th>\n      <td>5</td>\n      <td>4</td>\n      <td>USA</td>\n      <td>2.684690e+05</td>\n      <td>53693.79</td>\n    </tr>\n    <tr>\n      <th>14</th>\n      <td>13</td>\n      <td>5</td>\n      <td>Unknown</td>\n      <td>3.171550e+05</td>\n      <td>24396.53</td>\n    </tr>\n    <tr>\n      <th>15</th>\n      <td>19</td>\n      <td>6</td>\n      <td>Poland</td>\n      <td>3.713358e+05</td>\n      <td>19543.99</td>\n    </tr>\n    <tr>\n      <th>16</th>\n      <td>17</td>\n      <td>11</td>\n      <td>Austria</td>\n      <td>4.359373e+05</td>\n      <td>25643.37</td>\n    </tr>\n    <tr>\n      <th>17</th>\n      <td>10</td>\n      <td>1</td>\n      <td>Hong Kong</td>\n      <td>4.394435e+05</td>\n      <td>43944.35</td>\n    </tr>\n    <tr>\n      <th>18</th>\n      <td>8</td>\n      <td>4</td>\n      <td>Israel</td>\n      <td>5.070676e+05</td>\n      <td>63383.45</td>\n    </tr>\n    <tr>\n      <th>19</th>\n      <td>18</td>\n      <td>9</td>\n      <td>Denmark</td>\n      <td>6.583268e+05</td>\n      <td>36573.71</td>\n    </tr>\n    <tr>\n      <th>20</th>\n      <td>7</td>\n      <td>1</td>\n      <td>Singapore</td>\n      <td>7.359547e+05</td>\n      <td>105136.39</td>\n    </tr>\n    <tr>\n      <th>21</th>\n      <td>15</td>\n      <td>8</td>\n      <td>Cyprus</td>\n      <td>8.547523e+05</td>\n      <td>56983.49</td>\n    </tr>\n    <tr>\n      <th>22</th>\n      <td>35</td>\n      <td>14</td>\n      <td>Italy</td>\n      <td>9.619981e+05</td>\n      <td>27485.66</td>\n    </tr>\n    <tr>\n      <th>23</th>\n      <td>26</td>\n      <td>9</td>\n      <td>Channel Islands</td>\n      <td>9.854792e+05</td>\n      <td>37903.04</td>\n    </tr>\n    <tr>\n      <th>24</th>\n      <td>41</td>\n      <td>12</td>\n      <td>Finland</td>\n      <td>1.055097e+06</td>\n      <td>25734.07</td>\n    </tr>\n    <tr>\n      <th>25</th>\n      <td>56</td>\n      <td>20</td>\n      <td>Portugal</td>\n      <td>1.675362e+06</td>\n      <td>29917.19</td>\n    </tr>\n    <tr>\n      <th>26</th>\n      <td>33</td>\n      <td>10</td>\n      <td>Norway</td>\n      <td>1.738513e+06</td>\n      <td>52682.22</td>\n    </tr>\n    <tr>\n      <th>27</th>\n      <td>98</td>\n      <td>25</td>\n      <td>Belgium</td>\n      <td>2.439079e+06</td>\n      <td>24888.56</td>\n    </tr>\n    <tr>\n      <th>28</th>\n      <td>88</td>\n      <td>30</td>\n      <td>Spain</td>\n      <td>2.677249e+06</td>\n      <td>30423.28</td>\n    </tr>\n    <tr>\n      <th>29</th>\n      <td>50</td>\n      <td>22</td>\n      <td>Switzerland</td>\n      <td>2.720086e+06</td>\n      <td>54401.71</td>\n    </tr>\n    <tr>\n      <th>30</th>\n      <td>19</td>\n      <td>8</td>\n      <td>Japan</td>\n      <td>3.045999e+06</td>\n      <td>160315.73</td>\n    </tr>\n    <tr>\n      <th>31</th>\n      <td>34</td>\n      <td>8</td>\n      <td>Sweden</td>\n      <td>4.348121e+06</td>\n      <td>127885.92</td>\n    </tr>\n    <tr>\n      <th>32</th>\n      <td>56</td>\n      <td>9</td>\n      <td>Australia</td>\n      <td>9.599049e+06</td>\n      <td>171411.59</td>\n    </tr>\n    <tr>\n      <th>33</th>\n      <td>449</td>\n      <td>94</td>\n      <td>UK</td>\n      <td>1.106692e+07</td>\n      <td>24647.93</td>\n    </tr>\n    <tr>\n      <th>34</th>\n      <td>387</td>\n      <td>88</td>\n      <td>France</td>\n      <td>1.123973e+07</td>\n      <td>29043.22</td>\n    </tr>\n    <tr>\n      <th>35</th>\n      <td>288</td>\n      <td>4</td>\n      <td>Ireland</td>\n      <td>1.558200e+07</td>\n      <td>54104.17</td>\n    </tr>\n    <tr>\n      <th>36</th>\n      <td>94</td>\n      <td>9</td>\n      <td>Netherlands</td>\n      <td>2.156709e+07</td>\n      <td>229437.13</td>\n    </tr>\n    <tr>\n      <th>37</th>\n      <td>18718</td>\n      <td>3921</td>\n      <td>DE</td>\n      <td>4.958645e+08</td>\n      <td>26491.32</td>\n    </tr>\n  </tbody>\n</table>\n</div>"
     },
     "metadata": {},
     "execution_count": 5
    }
   ],
   "source": [
    "df"
   ]
  },
  {
   "cell_type": "code",
   "execution_count": 6,
   "metadata": {},
   "outputs": [],
   "source": [
    "df.at[37, 'Country'] = 'Germany'"
   ]
  },
  {
   "cell_type": "code",
   "execution_count": 8,
   "metadata": {},
   "outputs": [
    {
     "output_type": "execute_result",
     "data": {
      "text/plain": [
       "Index(['orders', 'number_customers', 'Country', 'sum_order', 'average_order'], dtype='object')"
      ]
     },
     "metadata": {},
     "execution_count": 8
    }
   ],
   "source": [
    "df.columns"
   ]
  },
  {
   "cell_type": "code",
   "execution_count": 21,
   "metadata": {},
   "outputs": [
    {
     "output_type": "display_data",
     "data": {
      "application/vnd.plotly.v1+json": {
       "config": {
        "plotlyServerURL": "https://plot.ly"
       },
       "data": [
        {
         "customdata": [
          [
           1
          ],
          [
           1
          ],
          [
           3
          ],
          [
           1
          ],
          [
           1
          ],
          [
           1
          ],
          [
           1
          ],
          [
           2
          ],
          [
           1
          ],
          [
           2
          ],
          [
           4
          ],
          [
           1
          ],
          [
           4
          ],
          [
           4
          ],
          [
           5
          ],
          [
           6
          ],
          [
           11
          ],
          [
           1
          ],
          [
           4
          ],
          [
           9
          ],
          [
           1
          ],
          [
           8
          ],
          [
           14
          ],
          [
           9
          ],
          [
           12
          ],
          [
           20
          ],
          [
           10
          ],
          [
           25
          ],
          [
           30
          ],
          [
           22
          ],
          [
           8
          ],
          [
           8
          ],
          [
           9
          ],
          [
           94
          ],
          [
           88
          ],
          [
           4
          ],
          [
           9
          ],
          [
           3921
          ]
         ],
         "domain": {
          "x": [
           0,
           1
          ],
          "y": [
           0,
           1
          ]
         },
         "hovertemplate": "Country=%{label}<br>sum_order=%{value}<br>Unique Customers=%{customdata[0]}<extra></extra>",
         "labels": [
          "Saudi Arabia",
          "RSA",
          "Bahrain",
          "Lebanon",
          "Brazil",
          "Lithuania",
          "European Community",
          "United Arab Emirates",
          "Czech Republic",
          "Malta",
          "Greece",
          "Iceland",
          "Canada",
          "USA",
          "Unknown",
          "Poland",
          "Austria",
          "Hong Kong",
          "Israel",
          "Denmark",
          "Singapore",
          "Cyprus",
          "Italy",
          "Channel Islands",
          "Finland",
          "Portugal",
          "Norway",
          "Belgium",
          "Spain",
          "Switzerland",
          "Japan",
          "Sweden",
          "Australia",
          "UK",
          "France",
          "Ireland",
          "Netherlands",
          "Germany"
         ],
         "legendgroup": "",
         "name": "",
         "showlegend": true,
         "type": "pie",
         "values": [
          7346.6,
          26890.56,
          40273,
          44284.31,
          45180.14,
          60107.38,
          60183.19,
          80162.84,
          88188.02,
          129572.27,
          135777.61,
          213098.81,
          226247.85,
          268468.95,
          317154.95,
          371335.81,
          435937.3,
          439443.47,
          507067.56,
          658326.8,
          735954.73,
          854752.34,
          961998.14,
          985479.16,
          1055097.04,
          1675362.47,
          1738513.35,
          2439078.73,
          2677248.65,
          2720085.55,
          3045998.84,
          4348121.37,
          9599048.81,
          11066922.4,
          11239725.76,
          15582000.3,
          21567090.51,
          495864492.94
         ]
        }
       ],
       "layout": {
        "font": {
         "family": "Switzerland",
         "size": 10
        },
        "height": 600,
        "legend": {
         "tracegroupgap": 0
        },
        "margin": {
         "b": 0,
         "l": 0,
         "r": 0,
         "t": 0
        },
        "plot_bgcolor": "rgba(0,0,0,0)",
        "showlegend": false,
        "template": {
         "data": {
          "bar": [
           {
            "error_x": {
             "color": "#2a3f5f"
            },
            "error_y": {
             "color": "#2a3f5f"
            },
            "marker": {
             "line": {
              "color": "#E5ECF6",
              "width": 0.5
             }
            },
            "type": "bar"
           }
          ],
          "barpolar": [
           {
            "marker": {
             "line": {
              "color": "#E5ECF6",
              "width": 0.5
             }
            },
            "type": "barpolar"
           }
          ],
          "carpet": [
           {
            "aaxis": {
             "endlinecolor": "#2a3f5f",
             "gridcolor": "white",
             "linecolor": "white",
             "minorgridcolor": "white",
             "startlinecolor": "#2a3f5f"
            },
            "baxis": {
             "endlinecolor": "#2a3f5f",
             "gridcolor": "white",
             "linecolor": "white",
             "minorgridcolor": "white",
             "startlinecolor": "#2a3f5f"
            },
            "type": "carpet"
           }
          ],
          "choropleth": [
           {
            "colorbar": {
             "outlinewidth": 0,
             "ticks": ""
            },
            "type": "choropleth"
           }
          ],
          "contour": [
           {
            "colorbar": {
             "outlinewidth": 0,
             "ticks": ""
            },
            "colorscale": [
             [
              0,
              "#0d0887"
             ],
             [
              0.1111111111111111,
              "#46039f"
             ],
             [
              0.2222222222222222,
              "#7201a8"
             ],
             [
              0.3333333333333333,
              "#9c179e"
             ],
             [
              0.4444444444444444,
              "#bd3786"
             ],
             [
              0.5555555555555556,
              "#d8576b"
             ],
             [
              0.6666666666666666,
              "#ed7953"
             ],
             [
              0.7777777777777778,
              "#fb9f3a"
             ],
             [
              0.8888888888888888,
              "#fdca26"
             ],
             [
              1,
              "#f0f921"
             ]
            ],
            "type": "contour"
           }
          ],
          "contourcarpet": [
           {
            "colorbar": {
             "outlinewidth": 0,
             "ticks": ""
            },
            "type": "contourcarpet"
           }
          ],
          "heatmap": [
           {
            "colorbar": {
             "outlinewidth": 0,
             "ticks": ""
            },
            "colorscale": [
             [
              0,
              "#0d0887"
             ],
             [
              0.1111111111111111,
              "#46039f"
             ],
             [
              0.2222222222222222,
              "#7201a8"
             ],
             [
              0.3333333333333333,
              "#9c179e"
             ],
             [
              0.4444444444444444,
              "#bd3786"
             ],
             [
              0.5555555555555556,
              "#d8576b"
             ],
             [
              0.6666666666666666,
              "#ed7953"
             ],
             [
              0.7777777777777778,
              "#fb9f3a"
             ],
             [
              0.8888888888888888,
              "#fdca26"
             ],
             [
              1,
              "#f0f921"
             ]
            ],
            "type": "heatmap"
           }
          ],
          "heatmapgl": [
           {
            "colorbar": {
             "outlinewidth": 0,
             "ticks": ""
            },
            "colorscale": [
             [
              0,
              "#0d0887"
             ],
             [
              0.1111111111111111,
              "#46039f"
             ],
             [
              0.2222222222222222,
              "#7201a8"
             ],
             [
              0.3333333333333333,
              "#9c179e"
             ],
             [
              0.4444444444444444,
              "#bd3786"
             ],
             [
              0.5555555555555556,
              "#d8576b"
             ],
             [
              0.6666666666666666,
              "#ed7953"
             ],
             [
              0.7777777777777778,
              "#fb9f3a"
             ],
             [
              0.8888888888888888,
              "#fdca26"
             ],
             [
              1,
              "#f0f921"
             ]
            ],
            "type": "heatmapgl"
           }
          ],
          "histogram": [
           {
            "marker": {
             "colorbar": {
              "outlinewidth": 0,
              "ticks": ""
             }
            },
            "type": "histogram"
           }
          ],
          "histogram2d": [
           {
            "colorbar": {
             "outlinewidth": 0,
             "ticks": ""
            },
            "colorscale": [
             [
              0,
              "#0d0887"
             ],
             [
              0.1111111111111111,
              "#46039f"
             ],
             [
              0.2222222222222222,
              "#7201a8"
             ],
             [
              0.3333333333333333,
              "#9c179e"
             ],
             [
              0.4444444444444444,
              "#bd3786"
             ],
             [
              0.5555555555555556,
              "#d8576b"
             ],
             [
              0.6666666666666666,
              "#ed7953"
             ],
             [
              0.7777777777777778,
              "#fb9f3a"
             ],
             [
              0.8888888888888888,
              "#fdca26"
             ],
             [
              1,
              "#f0f921"
             ]
            ],
            "type": "histogram2d"
           }
          ],
          "histogram2dcontour": [
           {
            "colorbar": {
             "outlinewidth": 0,
             "ticks": ""
            },
            "colorscale": [
             [
              0,
              "#0d0887"
             ],
             [
              0.1111111111111111,
              "#46039f"
             ],
             [
              0.2222222222222222,
              "#7201a8"
             ],
             [
              0.3333333333333333,
              "#9c179e"
             ],
             [
              0.4444444444444444,
              "#bd3786"
             ],
             [
              0.5555555555555556,
              "#d8576b"
             ],
             [
              0.6666666666666666,
              "#ed7953"
             ],
             [
              0.7777777777777778,
              "#fb9f3a"
             ],
             [
              0.8888888888888888,
              "#fdca26"
             ],
             [
              1,
              "#f0f921"
             ]
            ],
            "type": "histogram2dcontour"
           }
          ],
          "mesh3d": [
           {
            "colorbar": {
             "outlinewidth": 0,
             "ticks": ""
            },
            "type": "mesh3d"
           }
          ],
          "parcoords": [
           {
            "line": {
             "colorbar": {
              "outlinewidth": 0,
              "ticks": ""
             }
            },
            "type": "parcoords"
           }
          ],
          "pie": [
           {
            "automargin": true,
            "type": "pie"
           }
          ],
          "scatter": [
           {
            "marker": {
             "colorbar": {
              "outlinewidth": 0,
              "ticks": ""
             }
            },
            "type": "scatter"
           }
          ],
          "scatter3d": [
           {
            "line": {
             "colorbar": {
              "outlinewidth": 0,
              "ticks": ""
             }
            },
            "marker": {
             "colorbar": {
              "outlinewidth": 0,
              "ticks": ""
             }
            },
            "type": "scatter3d"
           }
          ],
          "scattercarpet": [
           {
            "marker": {
             "colorbar": {
              "outlinewidth": 0,
              "ticks": ""
             }
            },
            "type": "scattercarpet"
           }
          ],
          "scattergeo": [
           {
            "marker": {
             "colorbar": {
              "outlinewidth": 0,
              "ticks": ""
             }
            },
            "type": "scattergeo"
           }
          ],
          "scattergl": [
           {
            "marker": {
             "colorbar": {
              "outlinewidth": 0,
              "ticks": ""
             }
            },
            "type": "scattergl"
           }
          ],
          "scattermapbox": [
           {
            "marker": {
             "colorbar": {
              "outlinewidth": 0,
              "ticks": ""
             }
            },
            "type": "scattermapbox"
           }
          ],
          "scatterpolar": [
           {
            "marker": {
             "colorbar": {
              "outlinewidth": 0,
              "ticks": ""
             }
            },
            "type": "scatterpolar"
           }
          ],
          "scatterpolargl": [
           {
            "marker": {
             "colorbar": {
              "outlinewidth": 0,
              "ticks": ""
             }
            },
            "type": "scatterpolargl"
           }
          ],
          "scatterternary": [
           {
            "marker": {
             "colorbar": {
              "outlinewidth": 0,
              "ticks": ""
             }
            },
            "type": "scatterternary"
           }
          ],
          "surface": [
           {
            "colorbar": {
             "outlinewidth": 0,
             "ticks": ""
            },
            "colorscale": [
             [
              0,
              "#0d0887"
             ],
             [
              0.1111111111111111,
              "#46039f"
             ],
             [
              0.2222222222222222,
              "#7201a8"
             ],
             [
              0.3333333333333333,
              "#9c179e"
             ],
             [
              0.4444444444444444,
              "#bd3786"
             ],
             [
              0.5555555555555556,
              "#d8576b"
             ],
             [
              0.6666666666666666,
              "#ed7953"
             ],
             [
              0.7777777777777778,
              "#fb9f3a"
             ],
             [
              0.8888888888888888,
              "#fdca26"
             ],
             [
              1,
              "#f0f921"
             ]
            ],
            "type": "surface"
           }
          ],
          "table": [
           {
            "cells": {
             "fill": {
              "color": "#EBF0F8"
             },
             "line": {
              "color": "white"
             }
            },
            "header": {
             "fill": {
              "color": "#C8D4E3"
             },
             "line": {
              "color": "white"
             }
            },
            "type": "table"
           }
          ]
         },
         "layout": {
          "annotationdefaults": {
           "arrowcolor": "#2a3f5f",
           "arrowhead": 0,
           "arrowwidth": 1
          },
          "autotypenumbers": "strict",
          "coloraxis": {
           "colorbar": {
            "outlinewidth": 0,
            "ticks": ""
           }
          },
          "colorscale": {
           "diverging": [
            [
             0,
             "#8e0152"
            ],
            [
             0.1,
             "#c51b7d"
            ],
            [
             0.2,
             "#de77ae"
            ],
            [
             0.3,
             "#f1b6da"
            ],
            [
             0.4,
             "#fde0ef"
            ],
            [
             0.5,
             "#f7f7f7"
            ],
            [
             0.6,
             "#e6f5d0"
            ],
            [
             0.7,
             "#b8e186"
            ],
            [
             0.8,
             "#7fbc41"
            ],
            [
             0.9,
             "#4d9221"
            ],
            [
             1,
             "#276419"
            ]
           ],
           "sequential": [
            [
             0,
             "#0d0887"
            ],
            [
             0.1111111111111111,
             "#46039f"
            ],
            [
             0.2222222222222222,
             "#7201a8"
            ],
            [
             0.3333333333333333,
             "#9c179e"
            ],
            [
             0.4444444444444444,
             "#bd3786"
            ],
            [
             0.5555555555555556,
             "#d8576b"
            ],
            [
             0.6666666666666666,
             "#ed7953"
            ],
            [
             0.7777777777777778,
             "#fb9f3a"
            ],
            [
             0.8888888888888888,
             "#fdca26"
            ],
            [
             1,
             "#f0f921"
            ]
           ],
           "sequentialminus": [
            [
             0,
             "#0d0887"
            ],
            [
             0.1111111111111111,
             "#46039f"
            ],
            [
             0.2222222222222222,
             "#7201a8"
            ],
            [
             0.3333333333333333,
             "#9c179e"
            ],
            [
             0.4444444444444444,
             "#bd3786"
            ],
            [
             0.5555555555555556,
             "#d8576b"
            ],
            [
             0.6666666666666666,
             "#ed7953"
            ],
            [
             0.7777777777777778,
             "#fb9f3a"
            ],
            [
             0.8888888888888888,
             "#fdca26"
            ],
            [
             1,
             "#f0f921"
            ]
           ]
          },
          "colorway": [
           "#636efa",
           "#EF553B",
           "#00cc96",
           "#ab63fa",
           "#FFA15A",
           "#19d3f3",
           "#FF6692",
           "#B6E880",
           "#FF97FF",
           "#FECB52"
          ],
          "font": {
           "color": "#2a3f5f"
          },
          "geo": {
           "bgcolor": "white",
           "lakecolor": "white",
           "landcolor": "#E5ECF6",
           "showlakes": true,
           "showland": true,
           "subunitcolor": "white"
          },
          "hoverlabel": {
           "align": "left"
          },
          "hovermode": "closest",
          "mapbox": {
           "style": "light"
          },
          "paper_bgcolor": "white",
          "plot_bgcolor": "#E5ECF6",
          "polar": {
           "angularaxis": {
            "gridcolor": "white",
            "linecolor": "white",
            "ticks": ""
           },
           "bgcolor": "#E5ECF6",
           "radialaxis": {
            "gridcolor": "white",
            "linecolor": "white",
            "ticks": ""
           }
          },
          "scene": {
           "xaxis": {
            "backgroundcolor": "#E5ECF6",
            "gridcolor": "white",
            "gridwidth": 2,
            "linecolor": "white",
            "showbackground": true,
            "ticks": "",
            "zerolinecolor": "white"
           },
           "yaxis": {
            "backgroundcolor": "#E5ECF6",
            "gridcolor": "white",
            "gridwidth": 2,
            "linecolor": "white",
            "showbackground": true,
            "ticks": "",
            "zerolinecolor": "white"
           },
           "zaxis": {
            "backgroundcolor": "#E5ECF6",
            "gridcolor": "white",
            "gridwidth": 2,
            "linecolor": "white",
            "showbackground": true,
            "ticks": "",
            "zerolinecolor": "white"
           }
          },
          "shapedefaults": {
           "line": {
            "color": "#2a3f5f"
           }
          },
          "ternary": {
           "aaxis": {
            "gridcolor": "white",
            "linecolor": "white",
            "ticks": ""
           },
           "baxis": {
            "gridcolor": "white",
            "linecolor": "white",
            "ticks": ""
           },
           "bgcolor": "#E5ECF6",
           "caxis": {
            "gridcolor": "white",
            "linecolor": "white",
            "ticks": ""
           }
          },
          "title": {
           "x": 0.05
          },
          "xaxis": {
           "automargin": true,
           "gridcolor": "white",
           "linecolor": "white",
           "ticks": "",
           "title": {
            "standoff": 15
           },
           "zerolinecolor": "white",
           "zerolinewidth": 2
          },
          "yaxis": {
           "automargin": true,
           "gridcolor": "white",
           "linecolor": "white",
           "ticks": "",
           "title": {
            "standoff": 15
           },
           "zerolinecolor": "white",
           "zerolinewidth": 2
          }
         }
        },
        "width": 1000
       }
      }
     },
     "metadata": {}
    }
   ],
   "source": [
    "fig2 = px.pie(df, values='sum_order', names='Country', \n",
    "     hover_data=['number_customers'],\n",
    "                labels={'number_customers': 'Unique Customers'})\n",
    "fig2.update_layout(\n",
    "     plot_bgcolor='rgba(0,0,0,0)',\n",
    "     width=1000,\n",
    "     height=600,\n",
    "     margin={\"r\":0,\"t\":0,\"l\":0,\"b\":0},\n",
    "     showlegend = False,\n",
    "     font_family = \"Switzerland\",\n",
    "     font_size=10\n",
    ")\n",
    "fig2.show()"
   ]
  },
  {
   "cell_type": "code",
   "execution_count": null,
   "metadata": {},
   "outputs": [],
   "source": []
  }
 ]
}
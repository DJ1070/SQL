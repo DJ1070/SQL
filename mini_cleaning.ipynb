{
 "metadata": {
  "language_info": {
   "codemirror_mode": {
    "name": "ipython",
    "version": 3
   },
   "file_extension": ".py",
   "mimetype": "text/x-python",
   "name": "python",
   "nbconvert_exporter": "python",
   "pygments_lexer": "ipython3",
   "version": "3.8.5-final"
  },
  "orig_nbformat": 2,
  "kernelspec": {
   "name": "python3",
   "display_name": "Python 3.8.5 64-bit (conda)",
   "metadata": {
    "interpreter": {
     "hash": "b3ba2566441a7c06988d0923437866b63cedc61552a5af99d1f4fb67d367b25f"
    }
   }
  }
 },
 "nbformat": 4,
 "nbformat_minor": 2,
 "cells": [
  {
   "cell_type": "code",
   "execution_count": 1,
   "metadata": {},
   "outputs": [],
   "source": [
    "import pandas as pd\n",
    "import numpy as np"
   ]
  },
  {
   "cell_type": "code",
   "execution_count": 36,
   "metadata": {},
   "outputs": [],
   "source": [
    "filename = './ecom-sales/keyboard.csv'\n",
    "df = pd.read_csv(filename)"
   ]
  },
  {
   "cell_type": "code",
   "execution_count": 37,
   "metadata": {},
   "outputs": [
    {
     "output_type": "execute_result",
     "data": {
      "text/plain": [
       "                                                  title  \\\n",
       "0     AmazonBasics USB Wired Computer Keyboard and W...   \n",
       "1          Dell Wired Keyboard - Black KB216 (580-ADMT)   \n",
       "2     Corsair K95 RGB PLATINUM Mechanical Gaming Key...   \n",
       "3     NPET K10 Gaming Keyboard USB Wired Floating Ke...   \n",
       "4     Razer Cynosa Chroma Gaming Keyboard: 168 Indiv...   \n",
       "...                                                 ...   \n",
       "3350  Keyboard Pad Desk Pad Extended 31.50 x 11.81 x...   \n",
       "3351  Mitid Backlit Wireless Mini Keyboard with Mous...   \n",
       "3352  MONITORMATE ProBASE C Aluminum Monitor Stand w...   \n",
       "3353  LuvCase Laptop Case for MacBook Pro 13\" (2020/...   \n",
       "3354  MOSISO MacBook 12 inch Case (Model A1534, Rele...   \n",
       "\n",
       "                                                    url              rating  \\\n",
       "0     https://www.amazon.com/AmazonBasics-Wired-Comp...  4.4 out of 5 stars   \n",
       "1     https://www.amazon.com/Dell-Wired-Keyboard-Bla...  4.5 out of 5 stars   \n",
       "2     https://www.amazon.com/gp/slredirect/picassoRe...  4.3 out of 5 stars   \n",
       "3     https://www.amazon.com/NPET-Floating-Keyboard-...  4.3 out of 5 stars   \n",
       "4     https://www.amazon.com/Razer-Cynosa-Chroma-Gam...  4.5 out of 5 stars   \n",
       "...                                                 ...                 ...   \n",
       "3350  https://www.amazon.com/RAiLIVE-Office-Desk-0-2...  4.3 out of 5 stars   \n",
       "3351  https://www.amazon.com/Mitid-Wireless-Keyboard...  1.0 out of 5 stars   \n",
       "3352  https://www.amazon.com/MONITORMATE-ProBASE-Alu...  4.0 out of 5 stars   \n",
       "3353  https://www.amazon.com/LuvCase-Rubberized-Plas...  4.4 out of 5 stars   \n",
       "3354  https://www.amazon.com/MOSISO-Plastic-Keyboard...  4.3 out of 5 stars   \n",
       "\n",
       "     review_count    price  \n",
       "0           4,656   $14.99  \n",
       "1           4,565   $18.60  \n",
       "2           2,354  $182.99  \n",
       "3           1,947   $21.99  \n",
       "4           2,366   $50.99  \n",
       "...           ...      ...  \n",
       "3350           35    $9.99  \n",
       "3351            1   $13.21  \n",
       "3352           22  $139.00  \n",
       "3353          585   $19.97  \n",
       "3354          137   $21.99  \n",
       "\n",
       "[3355 rows x 5 columns]"
      ],
      "text/html": "<div>\n<style scoped>\n    .dataframe tbody tr th:only-of-type {\n        vertical-align: middle;\n    }\n\n    .dataframe tbody tr th {\n        vertical-align: top;\n    }\n\n    .dataframe thead th {\n        text-align: right;\n    }\n</style>\n<table border=\"1\" class=\"dataframe\">\n  <thead>\n    <tr style=\"text-align: right;\">\n      <th></th>\n      <th>title</th>\n      <th>url</th>\n      <th>rating</th>\n      <th>review_count</th>\n      <th>price</th>\n    </tr>\n  </thead>\n  <tbody>\n    <tr>\n      <th>0</th>\n      <td>AmazonBasics USB Wired Computer Keyboard and W...</td>\n      <td>https://www.amazon.com/AmazonBasics-Wired-Comp...</td>\n      <td>4.4 out of 5 stars</td>\n      <td>4,656</td>\n      <td>$14.99</td>\n    </tr>\n    <tr>\n      <th>1</th>\n      <td>Dell Wired Keyboard - Black KB216 (580-ADMT)</td>\n      <td>https://www.amazon.com/Dell-Wired-Keyboard-Bla...</td>\n      <td>4.5 out of 5 stars</td>\n      <td>4,565</td>\n      <td>$18.60</td>\n    </tr>\n    <tr>\n      <th>2</th>\n      <td>Corsair K95 RGB PLATINUM Mechanical Gaming Key...</td>\n      <td>https://www.amazon.com/gp/slredirect/picassoRe...</td>\n      <td>4.3 out of 5 stars</td>\n      <td>2,354</td>\n      <td>$182.99</td>\n    </tr>\n    <tr>\n      <th>3</th>\n      <td>NPET K10 Gaming Keyboard USB Wired Floating Ke...</td>\n      <td>https://www.amazon.com/NPET-Floating-Keyboard-...</td>\n      <td>4.3 out of 5 stars</td>\n      <td>1,947</td>\n      <td>$21.99</td>\n    </tr>\n    <tr>\n      <th>4</th>\n      <td>Razer Cynosa Chroma Gaming Keyboard: 168 Indiv...</td>\n      <td>https://www.amazon.com/Razer-Cynosa-Chroma-Gam...</td>\n      <td>4.5 out of 5 stars</td>\n      <td>2,366</td>\n      <td>$50.99</td>\n    </tr>\n    <tr>\n      <th>...</th>\n      <td>...</td>\n      <td>...</td>\n      <td>...</td>\n      <td>...</td>\n      <td>...</td>\n    </tr>\n    <tr>\n      <th>3350</th>\n      <td>Keyboard Pad Desk Pad Extended 31.50 x 11.81 x...</td>\n      <td>https://www.amazon.com/RAiLIVE-Office-Desk-0-2...</td>\n      <td>4.3 out of 5 stars</td>\n      <td>35</td>\n      <td>$9.99</td>\n    </tr>\n    <tr>\n      <th>3351</th>\n      <td>Mitid Backlit Wireless Mini Keyboard with Mous...</td>\n      <td>https://www.amazon.com/Mitid-Wireless-Keyboard...</td>\n      <td>1.0 out of 5 stars</td>\n      <td>1</td>\n      <td>$13.21</td>\n    </tr>\n    <tr>\n      <th>3352</th>\n      <td>MONITORMATE ProBASE C Aluminum Monitor Stand w...</td>\n      <td>https://www.amazon.com/MONITORMATE-ProBASE-Alu...</td>\n      <td>4.0 out of 5 stars</td>\n      <td>22</td>\n      <td>$139.00</td>\n    </tr>\n    <tr>\n      <th>3353</th>\n      <td>LuvCase Laptop Case for MacBook Pro 13\" (2020/...</td>\n      <td>https://www.amazon.com/LuvCase-Rubberized-Plas...</td>\n      <td>4.4 out of 5 stars</td>\n      <td>585</td>\n      <td>$19.97</td>\n    </tr>\n    <tr>\n      <th>3354</th>\n      <td>MOSISO MacBook 12 inch Case (Model A1534, Rele...</td>\n      <td>https://www.amazon.com/MOSISO-Plastic-Keyboard...</td>\n      <td>4.3 out of 5 stars</td>\n      <td>137</td>\n      <td>$21.99</td>\n    </tr>\n  </tbody>\n</table>\n<p>3355 rows × 5 columns</p>\n</div>"
     },
     "metadata": {},
     "execution_count": 37
    }
   ],
   "source": [
    "df"
   ]
  },
  {
   "cell_type": "code",
   "execution_count": 38,
   "metadata": {},
   "outputs": [],
   "source": [
    "df.price = df.price.str.replace('$', '')\n",
    "df.price = df.price.str.replace(',', '').astype(float)"
   ]
  },
  {
   "cell_type": "code",
   "execution_count": 39,
   "metadata": {},
   "outputs": [],
   "source": [
    "df.review_count = df.review_count.str.replace(',', '').astype(int)"
   ]
  },
  {
   "cell_type": "code",
   "execution_count": 40,
   "metadata": {},
   "outputs": [
    {
     "output_type": "execute_result",
     "data": {
      "text/plain": [
       "title            object\n",
       "url              object\n",
       "rating           object\n",
       "review_count      int32\n",
       "price           float64\n",
       "dtype: object"
      ]
     },
     "metadata": {},
     "execution_count": 40
    }
   ],
   "source": [
    "df.dtypes"
   ]
  },
  {
   "cell_type": "code",
   "execution_count": 41,
   "metadata": {},
   "outputs": [],
   "source": [
    "df.to_csv(filename, sep = ';')"
   ]
  },
  {
   "cell_type": "code",
   "execution_count": null,
   "metadata": {},
   "outputs": [],
   "source": []
  }
 ]
}
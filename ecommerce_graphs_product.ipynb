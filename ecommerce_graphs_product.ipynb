{
 "metadata": {
  "language_info": {
   "codemirror_mode": {
    "name": "ipython",
    "version": 3
   },
   "file_extension": ".py",
   "mimetype": "text/x-python",
   "name": "python",
   "nbconvert_exporter": "python",
   "pygments_lexer": "ipython3",
   "version": "3.8.5-final"
  },
  "orig_nbformat": 2,
  "kernelspec": {
   "name": "python3",
   "display_name": "Python 3.8.5 64-bit (conda)",
   "metadata": {
    "interpreter": {
     "hash": "b3ba2566441a7c06988d0923437866b63cedc61552a5af99d1f4fb67d367b25f"
    }
   }
  }
 },
 "nbformat": 4,
 "nbformat_minor": 2,
 "cells": [
  {
   "cell_type": "code",
   "execution_count": 11,
   "metadata": {},
   "outputs": [],
   "source": [
    "import pandas as pd\n",
    "import numpy as np\n",
    "import plotly.express as px\n",
    "import chart_studio.plotly as py\n",
    "import plotly.graph_objects as go\n",
    "from plotly.subplots import make_subplots"
   ]
  },
  {
   "cell_type": "code",
   "execution_count": 12,
   "metadata": {},
   "outputs": [],
   "source": [
    "df = pd.read_csv('g_product_by_country.csv')"
   ]
  },
  {
   "cell_type": "code",
   "execution_count": 13,
   "metadata": {},
   "outputs": [],
   "source": [
    "df.Country = df.Country.replace('DE', 'Germany')"
   ]
  },
  {
   "cell_type": "code",
   "execution_count": 20,
   "metadata": {},
   "outputs": [],
   "source": [
    "df['product'] = df['product'].replace('camera', 'Camera')\n",
    "df['product'] = df['product'].replace('mouse', 'Mouse')\n",
    "df['product'] = df['product'].replace('monitor', 'Monitor')\n",
    "df['product'] = df['product'].replace('processor', 'Processor')\n",
    "df['product'] = df['product'].replace('keyboard', 'Keyboard')\n",
    "df['product'] = df['product'].replace('smartphone', 'Smartphone')\n"
   ]
  },
  {
   "cell_type": "code",
   "execution_count": 21,
   "metadata": {},
   "outputs": [
    {
     "output_type": "execute_result",
     "data": {
      "text/plain": [
       "          Country     product   total_sales  orders  average_order_value  \\\n",
       "0    Saudi Arabia      Camera  1.599800e+02       1               159.98   \n",
       "1    Saudi Arabia       Mouse  4.073400e+02       2               203.67   \n",
       "2             RSA      Camera  7.644400e+02       6               127.41   \n",
       "3             RSA    Keyboard  8.317200e+02       7               118.82   \n",
       "4         Bahrain       Mouse  1.001760e+03       2               500.88   \n",
       "..            ...         ...           ...     ...                  ...   \n",
       "221       Germany     Monitor  4.599071e+07   20382              2256.44   \n",
       "222       Germany    Keyboard  5.071351e+07  104233               486.54   \n",
       "223       Germany      Camera  1.042118e+08   87824              1186.60   \n",
       "224       Germany  Smartphone  1.328189e+08  121362              1094.40   \n",
       "225       Germany   Processor  1.350441e+08   65283              2068.60   \n",
       "\n",
       "     Quantity  average_value_per_piece  \n",
       "0           2                    79.99  \n",
       "1           6                    67.89  \n",
       "2           4                   191.11  \n",
       "3           2                   415.86  \n",
       "4          24                    41.74  \n",
       "..        ...                      ...  \n",
       "221         2              22995353.34  \n",
       "222         4              12678378.14  \n",
       "223         6              17368625.07  \n",
       "224         6              22136480.59  \n",
       "225        10              13504410.09  \n",
       "\n",
       "[226 rows x 7 columns]"
      ],
      "text/html": "<div>\n<style scoped>\n    .dataframe tbody tr th:only-of-type {\n        vertical-align: middle;\n    }\n\n    .dataframe tbody tr th {\n        vertical-align: top;\n    }\n\n    .dataframe thead th {\n        text-align: right;\n    }\n</style>\n<table border=\"1\" class=\"dataframe\">\n  <thead>\n    <tr style=\"text-align: right;\">\n      <th></th>\n      <th>Country</th>\n      <th>product</th>\n      <th>total_sales</th>\n      <th>orders</th>\n      <th>average_order_value</th>\n      <th>Quantity</th>\n      <th>average_value_per_piece</th>\n    </tr>\n  </thead>\n  <tbody>\n    <tr>\n      <th>0</th>\n      <td>Saudi Arabia</td>\n      <td>Camera</td>\n      <td>1.599800e+02</td>\n      <td>1</td>\n      <td>159.98</td>\n      <td>2</td>\n      <td>79.99</td>\n    </tr>\n    <tr>\n      <th>1</th>\n      <td>Saudi Arabia</td>\n      <td>Mouse</td>\n      <td>4.073400e+02</td>\n      <td>2</td>\n      <td>203.67</td>\n      <td>6</td>\n      <td>67.89</td>\n    </tr>\n    <tr>\n      <th>2</th>\n      <td>RSA</td>\n      <td>Camera</td>\n      <td>7.644400e+02</td>\n      <td>6</td>\n      <td>127.41</td>\n      <td>4</td>\n      <td>191.11</td>\n    </tr>\n    <tr>\n      <th>3</th>\n      <td>RSA</td>\n      <td>Keyboard</td>\n      <td>8.317200e+02</td>\n      <td>7</td>\n      <td>118.82</td>\n      <td>2</td>\n      <td>415.86</td>\n    </tr>\n    <tr>\n      <th>4</th>\n      <td>Bahrain</td>\n      <td>Mouse</td>\n      <td>1.001760e+03</td>\n      <td>2</td>\n      <td>500.88</td>\n      <td>24</td>\n      <td>41.74</td>\n    </tr>\n    <tr>\n      <th>...</th>\n      <td>...</td>\n      <td>...</td>\n      <td>...</td>\n      <td>...</td>\n      <td>...</td>\n      <td>...</td>\n      <td>...</td>\n    </tr>\n    <tr>\n      <th>221</th>\n      <td>Germany</td>\n      <td>Monitor</td>\n      <td>4.599071e+07</td>\n      <td>20382</td>\n      <td>2256.44</td>\n      <td>2</td>\n      <td>22995353.34</td>\n    </tr>\n    <tr>\n      <th>222</th>\n      <td>Germany</td>\n      <td>Keyboard</td>\n      <td>5.071351e+07</td>\n      <td>104233</td>\n      <td>486.54</td>\n      <td>4</td>\n      <td>12678378.14</td>\n    </tr>\n    <tr>\n      <th>223</th>\n      <td>Germany</td>\n      <td>Camera</td>\n      <td>1.042118e+08</td>\n      <td>87824</td>\n      <td>1186.60</td>\n      <td>6</td>\n      <td>17368625.07</td>\n    </tr>\n    <tr>\n      <th>224</th>\n      <td>Germany</td>\n      <td>Smartphone</td>\n      <td>1.328189e+08</td>\n      <td>121362</td>\n      <td>1094.40</td>\n      <td>6</td>\n      <td>22136480.59</td>\n    </tr>\n    <tr>\n      <th>225</th>\n      <td>Germany</td>\n      <td>Processor</td>\n      <td>1.350441e+08</td>\n      <td>65283</td>\n      <td>2068.60</td>\n      <td>10</td>\n      <td>13504410.09</td>\n    </tr>\n  </tbody>\n</table>\n<p>226 rows × 7 columns</p>\n</div>"
     },
     "metadata": {},
     "execution_count": 21
    }
   ],
   "source": [
    "df"
   ]
  },
  {
   "cell_type": "code",
   "execution_count": 26,
   "metadata": {},
   "outputs": [
    {
     "output_type": "display_data",
     "data": {
      "application/vnd.plotly.v1+json": {
       "config": {
        "plotlyServerURL": "https://plot.ly"
       },
       "data": [
        {
         "hovertemplate": "<b>%{hovertext}</b><br><br>Country=Saudi Arabia<br>product=%{x}<br>total_sales=%{y}<br>orders=%{marker.size}<extra></extra>",
         "hovertext": [
          "Saudi Arabia",
          "Saudi Arabia",
          "Saudi Arabia",
          "Saudi Arabia",
          "Saudi Arabia"
         ],
         "legendgroup": "Saudi Arabia",
         "marker": {
          "color": "#636efa",
          "size": [
           1,
           2,
           1,
           2,
           3
          ],
          "sizemode": "area",
          "sizeref": 12.1362,
          "symbol": "circle"
         },
         "mode": "markers",
         "name": "Saudi Arabia",
         "orientation": "v",
         "showlegend": true,
         "type": "scatter",
         "x": [
          "Camera",
          "Mouse",
          "Processor",
          "Keyboard",
          "Smartphone"
         ],
         "xaxis": "x",
         "y": [
          159.98,
          407.34,
          1019.94,
          1079.76,
          4679.58
         ],
         "yaxis": "y"
        },
        {
         "hovertemplate": "<b>%{hovertext}</b><br><br>Country=RSA<br>product=%{x}<br>total_sales=%{y}<br>orders=%{marker.size}<extra></extra>",
         "hovertext": [
          "RSA",
          "RSA",
          "RSA",
          "RSA",
          "RSA",
          "RSA"
         ],
         "legendgroup": "RSA",
         "marker": {
          "color": "#EF553B",
          "size": [
           6,
           7,
           14,
           3,
           8,
           19
          ],
          "sizemode": "area",
          "sizeref": 12.1362,
          "symbol": "circle"
         },
         "mode": "markers",
         "name": "RSA",
         "orientation": "v",
         "showlegend": true,
         "type": "scatter",
         "x": [
          "Camera",
          "Keyboard",
          "Mouse",
          "Monitor",
          "Processor",
          "Smartphone"
         ],
         "xaxis": "x",
         "y": [
          764.44,
          831.72,
          1731.39,
          2672.91,
          5351.34,
          15538.76
         ],
         "yaxis": "y"
        },
        {
         "hovertemplate": "<b>%{hovertext}</b><br><br>Country=Bahrain<br>product=%{x}<br>total_sales=%{y}<br>orders=%{marker.size}<extra></extra>",
         "hovertext": [
          "Bahrain",
          "Bahrain",
          "Bahrain",
          "Bahrain",
          "Bahrain"
         ],
         "legendgroup": "Bahrain",
         "marker": {
          "color": "#00cc96",
          "size": [
           2,
           2,
           3,
           5,
           6
          ],
          "sizemode": "area",
          "sizeref": 12.1362,
          "symbol": "circle"
         },
         "mode": "markers",
         "name": "Bahrain",
         "orientation": "v",
         "showlegend": true,
         "type": "scatter",
         "x": [
          "Mouse",
          "Smartphone",
          "Monitor",
          "Keyboard",
          "Camera"
         ],
         "xaxis": "x",
         "y": [
          1001.76,
          1454.94,
          3405.9,
          5486.24,
          28924.16
         ],
         "yaxis": "y"
        },
        {
         "hovertemplate": "<b>%{hovertext}</b><br><br>Country=Czech Republic<br>product=%{x}<br>total_sales=%{y}<br>orders=%{marker.size}<extra></extra>",
         "hovertext": [
          "Czech Republic",
          "Czech Republic",
          "Czech Republic",
          "Czech Republic",
          "Czech Republic",
          "Czech Republic"
         ],
         "legendgroup": "Czech Republic",
         "marker": {
          "color": "#ab63fa",
          "size": [
           2,
           5,
           4,
           4,
           7,
           2
          ],
          "sizemode": "area",
          "sizeref": 12.1362,
          "symbol": "circle"
         },
         "mode": "markers",
         "name": "Czech Republic",
         "orientation": "v",
         "showlegend": true,
         "type": "scatter",
         "x": [
          "Camera",
          "Keyboard",
          "Mouse",
          "Monitor",
          "Smartphone",
          "Processor"
         ],
         "xaxis": "x",
         "y": [
          1227.12,
          3861.48,
          8569.92,
          11118.24,
          16516.1,
          46895.16
         ],
         "yaxis": "y"
        },
        {
         "hovertemplate": "<b>%{hovertext}</b><br><br>Country=Lebanon<br>product=%{x}<br>total_sales=%{y}<br>orders=%{marker.size}<extra></extra>",
         "hovertext": [
          "Lebanon",
          "Lebanon",
          "Lebanon",
          "Lebanon",
          "Lebanon",
          "Lebanon"
         ],
         "legendgroup": "Lebanon",
         "marker": {
          "color": "#FFA15A",
          "size": [
           7,
           9,
           5,
           1,
           10,
           13
          ],
          "sizemode": "area",
          "sizeref": 12.1362,
          "symbol": "circle"
         },
         "mode": "markers",
         "name": "Lebanon",
         "orientation": "v",
         "showlegend": true,
         "type": "scatter",
         "x": [
          "Mouse",
          "Keyboard",
          "Processor",
          "Monitor",
          "Camera",
          "Smartphone"
         ],
         "xaxis": "x",
         "y": [
          1227.88,
          1991.85,
          4791.9,
          5985,
          10227.28,
          20060.4
         ],
         "yaxis": "y"
        },
        {
         "hovertemplate": "<b>%{hovertext}</b><br><br>Country=Brazil<br>product=%{x}<br>total_sales=%{y}<br>orders=%{marker.size}<extra></extra>",
         "hovertext": [
          "Brazil",
          "Brazil",
          "Brazil",
          "Brazil",
          "Brazil",
          "Brazil"
         ],
         "legendgroup": "Brazil",
         "marker": {
          "color": "#19d3f3",
          "size": [
           5,
           2,
           5,
           5,
           6,
           9
          ],
          "sizemode": "area",
          "sizeref": 12.1362,
          "symbol": "circle"
         },
         "mode": "markers",
         "name": "Brazil",
         "orientation": "v",
         "showlegend": true,
         "type": "scatter",
         "x": [
          "Mouse",
          "Monitor",
          "Keyboard",
          "Processor",
          "Smartphone",
          "Camera"
         ],
         "xaxis": "x",
         "y": [
          1452.21,
          1895.92,
          1911.59,
          10410.24,
          11532.87,
          17977.31
         ],
         "yaxis": "y"
        },
        {
         "hovertemplate": "<b>%{hovertext}</b><br><br>Country=Lithuania<br>product=%{x}<br>total_sales=%{y}<br>orders=%{marker.size}<extra></extra>",
         "hovertext": [
          "Lithuania",
          "Lithuania",
          "Lithuania",
          "Lithuania",
          "Lithuania",
          "Lithuania"
         ],
         "legendgroup": "Lithuania",
         "marker": {
          "color": "#FF6692",
          "size": [
           6,
           8,
           1,
           6,
           6,
           8
          ],
          "sizemode": "area",
          "sizeref": 12.1362,
          "symbol": "circle"
         },
         "mode": "markers",
         "name": "Lithuania",
         "orientation": "v",
         "showlegend": true,
         "type": "scatter",
         "x": [
          "Mouse",
          "Keyboard",
          "Monitor",
          "Processor",
          "Camera",
          "Smartphone"
         ],
         "xaxis": "x",
         "y": [
          1482.48,
          3287.82,
          4738.68,
          10239.44,
          14030.42,
          26328.54
         ],
         "yaxis": "y"
        },
        {
         "hovertemplate": "<b>%{hovertext}</b><br><br>Country=European Community<br>product=%{x}<br>total_sales=%{y}<br>orders=%{marker.size}<extra></extra>",
         "hovertext": [
          "European Community",
          "European Community",
          "European Community",
          "European Community",
          "European Community",
          "European Community"
         ],
         "legendgroup": "European Community",
         "marker": {
          "color": "#B6E880",
          "size": [
           9,
           11,
           15,
           3,
           2,
           17
          ],
          "sizemode": "area",
          "sizeref": 12.1362,
          "symbol": "circle"
         },
         "mode": "markers",
         "name": "European Community",
         "orientation": "v",
         "showlegend": true,
         "type": "scatter",
         "x": [
          "Mouse",
          "Smartphone",
          "Keyboard",
          "Processor",
          "Monitor",
          "Camera"
         ],
         "xaxis": "x",
         "y": [
          2281.61,
          3298.07,
          4441.79,
          4729.78,
          5266.74,
          40165.2
         ],
         "yaxis": "y"
        },
        {
         "hovertemplate": "<b>%{hovertext}</b><br><br>Country=Malta<br>product=%{x}<br>total_sales=%{y}<br>orders=%{marker.size}<extra></extra>",
         "hovertext": [
          "Malta",
          "Malta",
          "Malta",
          "Malta",
          "Malta",
          "Malta"
         ],
         "legendgroup": "Malta",
         "marker": {
          "color": "#FF97FF",
          "size": [
           4,
           20,
           25,
           13,
           23,
           24
          ],
          "sizemode": "area",
          "sizeref": 12.1362,
          "symbol": "circle"
         },
         "mode": "markers",
         "name": "Malta",
         "orientation": "v",
         "showlegend": true,
         "type": "scatter",
         "x": [
          "Monitor",
          "Keyboard",
          "Mouse",
          "Processor",
          "Camera",
          "Smartphone"
         ],
         "xaxis": "x",
         "y": [
          2334.69,
          5753.28,
          8242.42,
          20441.6,
          45806.64,
          46993.64
         ],
         "yaxis": "y"
        },
        {
         "hovertemplate": "<b>%{hovertext}</b><br><br>Country=USA<br>product=%{x}<br>total_sales=%{y}<br>orders=%{marker.size}<extra></extra>",
         "hovertext": [
          "USA",
          "USA",
          "USA",
          "USA",
          "USA",
          "USA"
         ],
         "legendgroup": "USA",
         "marker": {
          "color": "#FECB52",
          "size": [
           4,
           33,
           44,
           38,
           21,
           39
          ],
          "sizemode": "area",
          "sizeref": 12.1362,
          "symbol": "circle"
         },
         "mode": "markers",
         "name": "USA",
         "orientation": "v",
         "showlegend": true,
         "type": "scatter",
         "x": [
          "Monitor",
          "Mouse",
          "Keyboard",
          "Smartphone",
          "Processor",
          "Camera"
         ],
         "xaxis": "x",
         "y": [
          6036.6,
          9061.12,
          18045.4,
          32299.78,
          94136.7,
          108889.35
         ],
         "yaxis": "y"
        },
        {
         "hovertemplate": "<b>%{hovertext}</b><br><br>Country=United Arab Emirates<br>product=%{x}<br>total_sales=%{y}<br>orders=%{marker.size}<extra></extra>",
         "hovertext": [
          "United Arab Emirates",
          "United Arab Emirates",
          "United Arab Emirates",
          "United Arab Emirates",
          "United Arab Emirates",
          "United Arab Emirates"
         ],
         "legendgroup": "United Arab Emirates",
         "marker": {
          "color": "#636efa",
          "size": [
           4,
           12,
           16,
           4,
           16,
           14
          ],
          "sizemode": "area",
          "sizeref": 12.1362,
          "symbol": "circle"
         },
         "mode": "markers",
         "name": "United Arab Emirates",
         "orientation": "v",
         "showlegend": true,
         "type": "scatter",
         "x": [
          "Monitor",
          "Mouse",
          "Keyboard",
          "Processor",
          "Camera",
          "Smartphone"
         ],
         "xaxis": "x",
         "y": [
          6947.44,
          7623.18,
          11987.12,
          12433.98,
          19247.78,
          21923.34
         ],
         "yaxis": "y"
        },
        {
         "hovertemplate": "<b>%{hovertext}</b><br><br>Country=Greece<br>product=%{x}<br>total_sales=%{y}<br>orders=%{marker.size}<extra></extra>",
         "hovertext": [
          "Greece",
          "Greece",
          "Greece",
          "Greece",
          "Greece",
          "Greece"
         ],
         "legendgroup": "Greece",
         "marker": {
          "color": "#EF553B",
          "size": [
           6,
           30,
           30,
           17,
           35,
           24
          ],
          "sizemode": "area",
          "sizeref": 12.1362,
          "symbol": "circle"
         },
         "mode": "markers",
         "name": "Greece",
         "orientation": "v",
         "showlegend": true,
         "type": "scatter",
         "x": [
          "Monitor",
          "Mouse",
          "Keyboard",
          "Processor",
          "Smartphone",
          "Camera"
         ],
         "xaxis": "x",
         "y": [
          9009.21,
          9966.12,
          13436.66,
          25992.89,
          26868.94,
          50503.79
         ],
         "yaxis": "y"
        },
        {
         "hovertemplate": "<b>%{hovertext}</b><br><br>Country=Iceland<br>product=%{x}<br>total_sales=%{y}<br>orders=%{marker.size}<extra></extra>",
         "hovertext": [
          "Iceland",
          "Iceland",
          "Iceland",
          "Iceland",
          "Iceland",
          "Iceland"
         ],
         "legendgroup": "Iceland",
         "marker": {
          "color": "#00cc96",
          "size": [
           27,
           9,
           29,
           36,
           42,
           39
          ],
          "sizemode": "area",
          "sizeref": 12.1362,
          "symbol": "circle"
         },
         "mode": "markers",
         "name": "Iceland",
         "orientation": "v",
         "showlegend": true,
         "type": "scatter",
         "x": [
          "Mouse",
          "Monitor",
          "Camera",
          "Keyboard",
          "Smartphone",
          "Processor"
         ],
         "xaxis": "x",
         "y": [
          10412.44,
          15595.26,
          17433.26,
          17560.79,
          60010.86,
          92086.2
         ],
         "yaxis": "y"
        },
        {
         "hovertemplate": "<b>%{hovertext}</b><br><br>Country=Canada<br>product=%{x}<br>total_sales=%{y}<br>orders=%{marker.size}<extra></extra>",
         "hovertext": [
          "Canada",
          "Canada",
          "Canada",
          "Canada",
          "Canada",
          "Canada"
         ],
         "legendgroup": "Canada",
         "marker": {
          "color": "#ab63fa",
          "size": [
           27,
           7,
           36,
           20,
           30,
           30
          ],
          "sizemode": "area",
          "sizeref": 12.1362,
          "symbol": "circle"
         },
         "mode": "markers",
         "name": "Canada",
         "orientation": "v",
         "showlegend": true,
         "type": "scatter",
         "x": [
          "Mouse",
          "Monitor",
          "Smartphone",
          "Processor",
          "Keyboard",
          "Camera"
         ],
         "xaxis": "x",
         "y": [
          11258.45,
          24027.28,
          29194.21,
          42940.41,
          47155.82,
          71671.68
         ],
         "yaxis": "y"
        },
        {
         "hovertemplate": "<b>%{hovertext}</b><br><br>Country=Hong Kong<br>product=%{x}<br>total_sales=%{y}<br>orders=%{marker.size}<extra></extra>",
         "hovertext": [
          "Hong Kong",
          "Hong Kong",
          "Hong Kong",
          "Hong Kong",
          "Hong Kong",
          "Hong Kong"
         ],
         "legendgroup": "Hong Kong",
         "marker": {
          "color": "#FFA15A",
          "size": [
           41,
           13,
           70,
           74,
           46,
           38
          ],
          "sizemode": "area",
          "sizeref": 12.1362,
          "symbol": "circle"
         },
         "mode": "markers",
         "name": "Hong Kong",
         "orientation": "v",
         "showlegend": true,
         "type": "scatter",
         "x": [
          "Mouse",
          "Monitor",
          "Keyboard",
          "Smartphone",
          "Processor",
          "Camera"
         ],
         "xaxis": "x",
         "y": [
          12287.03,
          34762.3,
          51642.35,
          95495.37,
          109709,
          135547.42
         ],
         "yaxis": "y"
        },
        {
         "hovertemplate": "<b>%{hovertext}</b><br><br>Country=Unknown<br>product=%{x}<br>total_sales=%{y}<br>orders=%{marker.size}<extra></extra>",
         "hovertext": [
          "Unknown",
          "Unknown",
          "Unknown",
          "Unknown",
          "Unknown",
          "Unknown"
         ],
         "legendgroup": "Unknown",
         "marker": {
          "color": "#19d3f3",
          "size": [
           73,
           17,
           103,
           105,
           54,
           94
          ],
          "sizemode": "area",
          "sizeref": 12.1362,
          "symbol": "circle"
         },
         "mode": "markers",
         "name": "Unknown",
         "orientation": "v",
         "showlegend": true,
         "type": "scatter",
         "x": [
          "Mouse",
          "Monitor",
          "Keyboard",
          "Smartphone",
          "Processor",
          "Camera"
         ],
         "xaxis": "x",
         "y": [
          13353.14,
          26551.26,
          39712.26,
          48844,
          82215.84,
          106478.45
         ],
         "yaxis": "y"
        },
        {
         "hovertemplate": "<b>%{hovertext}</b><br><br>Country=Israel<br>product=%{x}<br>total_sales=%{y}<br>orders=%{marker.size}<extra></extra>",
         "hovertext": [
          "Israel",
          "Israel",
          "Israel",
          "Israel",
          "Israel",
          "Israel"
         ],
         "legendgroup": "Israel",
         "marker": {
          "color": "#FF6692",
          "size": [
           8,
           48,
           69,
           77,
           38,
           55
          ],
          "sizemode": "area",
          "sizeref": 12.1362,
          "symbol": "circle"
         },
         "mode": "markers",
         "name": "Israel",
         "orientation": "v",
         "showlegend": true,
         "type": "scatter",
         "x": [
          "Monitor",
          "Mouse",
          "Keyboard",
          "Smartphone",
          "Processor",
          "Camera"
         ],
         "xaxis": "x",
         "y": [
          14547.45,
          20312.03,
          67880.77,
          89808.5,
          122486.46,
          192032.35
         ],
         "yaxis": "y"
        },
        {
         "hovertemplate": "<b>%{hovertext}</b><br><br>Country=Poland<br>product=%{x}<br>total_sales=%{y}<br>orders=%{marker.size}<extra></extra>",
         "hovertext": [
          "Poland",
          "Poland",
          "Poland",
          "Poland",
          "Poland",
          "Poland"
         ],
         "legendgroup": "Poland",
         "marker": {
          "color": "#B6E880",
          "size": [
           13,
           60,
           80,
           75,
           53,
           44
          ],
          "sizemode": "area",
          "sizeref": 12.1362,
          "symbol": "circle"
         },
         "mode": "markers",
         "name": "Poland",
         "orientation": "v",
         "showlegend": true,
         "type": "scatter",
         "x": [
          "Monitor",
          "Mouse",
          "Smartphone",
          "Keyboard",
          "Camera",
          "Processor"
         ],
         "xaxis": "x",
         "y": [
          15440.05,
          22295.01,
          38433.81,
          53543.25,
          62488.05,
          179135.64
         ],
         "yaxis": "y"
        },
        {
         "hovertemplate": "<b>%{hovertext}</b><br><br>Country=Cyprus<br>product=%{x}<br>total_sales=%{y}<br>orders=%{marker.size}<extra></extra>",
         "hovertext": [
          "Cyprus",
          "Cyprus",
          "Cyprus",
          "Cyprus",
          "Cyprus",
          "Cyprus"
         ],
         "legendgroup": "Cyprus",
         "marker": {
          "color": "#FF97FF",
          "size": [
           104,
           137,
           27,
           130,
           69,
           146
          ],
          "sizemode": "area",
          "sizeref": 12.1362,
          "symbol": "circle"
         },
         "mode": "markers",
         "name": "Cyprus",
         "orientation": "v",
         "showlegend": true,
         "type": "scatter",
         "x": [
          "Mouse",
          "Keyboard",
          "Monitor",
          "Smartphone",
          "Processor",
          "Camera"
         ],
         "xaxis": "x",
         "y": [
          22598.31,
          50897.89,
          91511.93,
          178347.65,
          194253.03,
          317143.53
         ],
         "yaxis": "y"
        },
        {
         "hovertemplate": "<b>%{hovertext}</b><br><br>Country=Austria<br>product=%{x}<br>total_sales=%{y}<br>orders=%{marker.size}<extra></extra>",
         "hovertext": [
          "Austria",
          "Austria",
          "Austria",
          "Austria",
          "Austria",
          "Austria"
         ],
         "legendgroup": "Austria",
         "marker": {
          "color": "#FECB52",
          "size": [
           14,
           65,
           93,
           96,
           41,
           75
          ],
          "sizemode": "area",
          "sizeref": 12.1362,
          "symbol": "circle"
         },
         "mode": "markers",
         "name": "Austria",
         "orientation": "v",
         "showlegend": true,
         "type": "scatter",
         "x": [
          "Monitor",
          "Mouse",
          "Smartphone",
          "Keyboard",
          "Processor",
          "Camera"
         ],
         "xaxis": "x",
         "y": [
          27108.39,
          31516.83,
          65924.74,
          69572.51,
          98740.79,
          143074.04
         ],
         "yaxis": "y"
        },
        {
         "hovertemplate": "<b>%{hovertext}</b><br><br>Country=Channel Islands<br>product=%{x}<br>total_sales=%{y}<br>orders=%{marker.size}<extra></extra>",
         "hovertext": [
          "Channel Islands",
          "Channel Islands",
          "Channel Islands",
          "Channel Islands",
          "Channel Islands",
          "Channel Islands"
         ],
         "legendgroup": "Channel Islands",
         "marker": {
          "color": "#636efa",
          "size": [
           124,
           33,
           112,
           155,
           110,
           213
          ],
          "sizemode": "area",
          "sizeref": 12.1362,
          "symbol": "circle"
         },
         "mode": "markers",
         "name": "Channel Islands",
         "orientation": "v",
         "showlegend": true,
         "type": "scatter",
         "x": [
          "Mouse",
          "Monitor",
          "Camera",
          "Keyboard",
          "Processor",
          "Smartphone"
         ],
         "xaxis": "x",
         "y": [
          33378.5,
          76381.74,
          99284.19,
          114468.87,
          243092.72,
          418873.14
         ],
         "yaxis": "y"
        },
        {
         "hovertemplate": "<b>%{hovertext}</b><br><br>Country=Singapore<br>product=%{x}<br>total_sales=%{y}<br>orders=%{marker.size}<extra></extra>",
         "hovertext": [
          "Singapore",
          "Singapore",
          "Singapore",
          "Singapore",
          "Singapore",
          "Singapore"
         ],
         "legendgroup": "Singapore",
         "marker": {
          "color": "#EF553B",
          "size": [
           38,
           7,
           52,
           44,
           41,
           37
          ],
          "sizemode": "area",
          "sizeref": 12.1362,
          "symbol": "circle"
         },
         "mode": "markers",
         "name": "Singapore",
         "orientation": "v",
         "showlegend": true,
         "type": "scatter",
         "x": [
          "Mouse",
          "Monitor",
          "Keyboard",
          "Smartphone",
          "Processor",
          "Camera"
         ],
         "xaxis": "x",
         "y": [
          33968.03,
          35119.62,
          49300.53,
          108080.38,
          206784.69,
          302701.48
         ],
         "yaxis": "y"
        },
        {
         "hovertemplate": "<b>%{hovertext}</b><br><br>Country=Denmark<br>product=%{x}<br>total_sales=%{y}<br>orders=%{marker.size}<extra></extra>",
         "hovertext": [
          "Denmark",
          "Denmark",
          "Denmark",
          "Denmark",
          "Denmark",
          "Denmark"
         ],
         "legendgroup": "Denmark",
         "marker": {
          "color": "#00cc96",
          "size": [
           9,
           63,
           88,
           64,
           95,
           48
          ],
          "sizemode": "area",
          "sizeref": 12.1362,
          "symbol": "circle"
         },
         "mode": "markers",
         "name": "Denmark",
         "orientation": "v",
         "showlegend": true,
         "type": "scatter",
         "x": [
          "Monitor",
          "Mouse",
          "Keyboard",
          "Camera",
          "Smartphone",
          "Processor"
         ],
         "xaxis": "x",
         "y": [
          37372.88,
          38272.72,
          108000.08,
          136037.99,
          145149.82,
          193493.31
         ],
         "yaxis": "y"
        },
        {
         "hovertemplate": "<b>%{hovertext}</b><br><br>Country=Finland<br>product=%{x}<br>total_sales=%{y}<br>orders=%{marker.size}<extra></extra>",
         "hovertext": [
          "Finland",
          "Finland",
          "Finland",
          "Finland",
          "Finland",
          "Finland"
         ],
         "legendgroup": "Finland",
         "marker": {
          "color": "#ab63fa",
          "size": [
           101,
           22,
           160,
           102,
           167,
           96
          ],
          "sizemode": "area",
          "sizeref": 12.1362,
          "symbol": "circle"
         },
         "mode": "markers",
         "name": "Finland",
         "orientation": "v",
         "showlegend": true,
         "type": "scatter",
         "x": [
          "Mouse",
          "Monitor",
          "Keyboard",
          "Camera",
          "Smartphone",
          "Processor"
         ],
         "xaxis": "x",
         "y": [
          39515.34,
          87458.87,
          139383.73,
          167169.05,
          180840.13,
          440729.92
         ],
         "yaxis": "y"
        },
        {
         "hovertemplate": "<b>%{hovertext}</b><br><br>Country=Italy<br>product=%{x}<br>total_sales=%{y}<br>orders=%{marker.size}<extra></extra>",
         "hovertext": [
          "Italy",
          "Italy",
          "Italy",
          "Italy",
          "Italy",
          "Italy"
         ],
         "legendgroup": "Italy",
         "marker": {
          "color": "#FFA15A",
          "size": [
           132,
           30,
           152,
           211,
           123,
           87
          ],
          "sizemode": "area",
          "sizeref": 12.1362,
          "symbol": "circle"
         },
         "mode": "markers",
         "name": "Italy",
         "orientation": "v",
         "showlegend": true,
         "type": "scatter",
         "x": [
          "Mouse",
          "Monitor",
          "Keyboard",
          "Smartphone",
          "Camera",
          "Processor"
         ],
         "xaxis": "x",
         "y": [
          55056.63,
          55776.95,
          104074.85,
          182570.3,
          214809.76,
          349709.66
         ],
         "yaxis": "y"
        },
        {
         "hovertemplate": "<b>%{hovertext}</b><br><br>Country=Portugal<br>product=%{x}<br>total_sales=%{y}<br>orders=%{marker.size}<extra></extra>",
         "hovertext": [
          "Portugal",
          "Portugal",
          "Portugal",
          "Portugal",
          "Portugal",
          "Portugal"
         ],
         "legendgroup": "Portugal",
         "marker": {
          "color": "#19d3f3",
          "size": [
           255,
           46,
           306,
           357,
           260,
           247
          ],
          "sizemode": "area",
          "sizeref": 12.1362,
          "symbol": "circle"
         },
         "mode": "markers",
         "name": "Portugal",
         "orientation": "v",
         "showlegend": true,
         "type": "scatter",
         "x": [
          "Mouse",
          "Monitor",
          "Keyboard",
          "Smartphone",
          "Camera",
          "Processor"
         ],
         "xaxis": "x",
         "y": [
          85632.16,
          93351.61,
          172483.17,
          346242.95,
          412087.61,
          565564.97
         ],
         "yaxis": "y"
        },
        {
         "hovertemplate": "<b>%{hovertext}</b><br><br>Country=Japan<br>product=%{x}<br>total_sales=%{y}<br>orders=%{marker.size}<extra></extra>",
         "hovertext": [
          "Japan",
          "Japan",
          "Japan",
          "Japan",
          "Japan",
          "Japan"
         ],
         "legendgroup": "Japan",
         "marker": {
          "color": "#FF6692",
          "size": [
           46,
           17,
           46,
           74,
           80,
           58
          ],
          "sizemode": "area",
          "sizeref": 12.1362,
          "symbol": "circle"
         },
         "mode": "markers",
         "name": "Japan",
         "orientation": "v",
         "showlegend": true,
         "type": "scatter",
         "x": [
          "Mouse",
          "Monitor",
          "Camera",
          "Smartphone",
          "Keyboard",
          "Processor"
         ],
         "xaxis": "x",
         "y": [
          86741.83,
          277690.35,
          345604.3,
          397157.83,
          679458.01,
          1259346.53
         ],
         "yaxis": "y"
        },
        {
         "hovertemplate": "<b>%{hovertext}</b><br><br>Country=Norway<br>product=%{x}<br>total_sales=%{y}<br>orders=%{marker.size}<extra></extra>",
         "hovertext": [
          "Norway",
          "Norway",
          "Norway",
          "Norway",
          "Norway",
          "Norway"
         ],
         "legendgroup": "Norway",
         "marker": {
          "color": "#B6E880",
          "size": [
           207,
           54,
           205,
           266,
           185,
           135
          ],
          "sizemode": "area",
          "sizeref": 12.1362,
          "symbol": "circle"
         },
         "mode": "markers",
         "name": "Norway",
         "orientation": "v",
         "showlegend": true,
         "type": "scatter",
         "x": [
          "Mouse",
          "Monitor",
          "Keyboard",
          "Smartphone",
          "Camera",
          "Processor"
         ],
         "xaxis": "x",
         "y": [
          107323.21,
          185089.58,
          235888.4,
          342176.67,
          408378.44,
          459657.06
         ],
         "yaxis": "y"
        },
        {
         "hovertemplate": "<b>%{hovertext}</b><br><br>Country=Spain<br>product=%{x}<br>total_sales=%{y}<br>orders=%{marker.size}<extra></extra>",
         "hovertext": [
          "Spain",
          "Spain",
          "Spain",
          "Spain",
          "Spain",
          "Spain"
         ],
         "legendgroup": "Spain",
         "marker": {
          "color": "#FF97FF",
          "size": [
           379,
           103,
           534,
           456,
           644,
           305
          ],
          "sizemode": "area",
          "sizeref": 12.1362,
          "symbol": "circle"
         },
         "mode": "markers",
         "name": "Spain",
         "orientation": "v",
         "showlegend": true,
         "type": "scatter",
         "x": [
          "Mouse",
          "Monitor",
          "Keyboard",
          "Camera",
          "Smartphone",
          "Processor"
         ],
         "xaxis": "x",
         "y": [
          113310.49,
          188995.43,
          303096.69,
          665897.51,
          670329.09,
          735619.45
         ],
         "yaxis": "y"
        },
        {
         "hovertemplate": "<b>%{hovertext}</b><br><br>Country=Belgium<br>product=%{x}<br>total_sales=%{y}<br>orders=%{marker.size}<extra></extra>",
         "hovertext": [
          "Belgium",
          "Belgium",
          "Belgium",
          "Belgium",
          "Belgium",
          "Belgium"
         ],
         "legendgroup": "Belgium",
         "marker": {
          "color": "#FECB52",
          "size": [
           351,
           61,
           386,
           530,
           340,
           267
          ],
          "sizemode": "area",
          "sizeref": 12.1362,
          "symbol": "circle"
         },
         "mode": "markers",
         "name": "Belgium",
         "orientation": "v",
         "showlegend": true,
         "type": "scatter",
         "x": [
          "Mouse",
          "Monitor",
          "Keyboard",
          "Smartphone",
          "Camera",
          "Processor"
         ],
         "xaxis": "x",
         "y": [
          117302.51,
          231782.39,
          360400.45,
          520844.57,
          532484.09,
          676264.73
         ],
         "yaxis": "y"
        },
        {
         "hovertemplate": "<b>%{hovertext}</b><br><br>Country=Switzerland<br>product=%{x}<br>total_sales=%{y}<br>orders=%{marker.size}<extra></extra>",
         "hovertext": [
          "Switzerland",
          "Switzerland",
          "Switzerland",
          "Switzerland",
          "Switzerland",
          "Switzerland"
         ],
         "legendgroup": "Switzerland",
         "marker": {
          "color": "#636efa",
          "size": [
           359,
           81,
           449,
           213,
           499,
           333
          ],
          "sizemode": "area",
          "sizeref": 12.1362,
          "symbol": "circle"
         },
         "mode": "markers",
         "name": "Switzerland",
         "orientation": "v",
         "showlegend": true,
         "type": "scatter",
         "x": [
          "Mouse",
          "Monitor",
          "Keyboard",
          "Processor",
          "Smartphone",
          "Camera"
         ],
         "xaxis": "x",
         "y": [
          164827.44,
          213001.9,
          354371.63,
          608129.71,
          674919.67,
          704835.21
         ],
         "yaxis": "y"
        },
        {
         "hovertemplate": "<b>%{hovertext}</b><br><br>Country=Sweden<br>product=%{x}<br>total_sales=%{y}<br>orders=%{marker.size}<extra></extra>",
         "hovertext": [
          "Sweden",
          "Sweden",
          "Sweden",
          "Sweden",
          "Sweden",
          "Sweden"
         ],
         "legendgroup": "Sweden",
         "marker": {
          "color": "#EF553B",
          "size": [
           71,
           13,
           108,
           123,
           64,
           50
          ],
          "sizemode": "area",
          "sizeref": 12.1362,
          "symbol": "circle"
         },
         "mode": "markers",
         "name": "Sweden",
         "orientation": "v",
         "showlegend": true,
         "type": "scatter",
         "x": [
          "Mouse",
          "Monitor",
          "Keyboard",
          "Smartphone",
          "Camera",
          "Processor"
         ],
         "xaxis": "x",
         "y": [
          264483.82,
          364030.31,
          621479.17,
          681400.7,
          1074037.81,
          1342689.57
         ],
         "yaxis": "y"
        },
        {
         "hovertemplate": "<b>%{hovertext}</b><br><br>Country=Australia<br>product=%{x}<br>total_sales=%{y}<br>orders=%{marker.size}<extra></extra>",
         "hovertext": [
          "Australia",
          "Australia",
          "Australia",
          "Australia",
          "Australia",
          "Australia"
         ],
         "legendgroup": "Australia",
         "marker": {
          "color": "#00cc96",
          "size": [
           208,
           60,
           317,
           197,
           230,
           165
          ],
          "sizemode": "area",
          "sizeref": 12.1362,
          "symbol": "circle"
         },
         "mode": "markers",
         "name": "Australia",
         "orientation": "v",
         "showlegend": true,
         "type": "scatter",
         "x": [
          "Mouse",
          "Monitor",
          "Smartphone",
          "Camera",
          "Keyboard",
          "Processor"
         ],
         "xaxis": "x",
         "y": [
          394235.88,
          633577.23,
          1628466.55,
          1695756.19,
          1796203.3,
          3450809.66
         ],
         "yaxis": "y"
        },
        {
         "hovertemplate": "<b>%{hovertext}</b><br><br>Country=France<br>product=%{x}<br>total_sales=%{y}<br>orders=%{marker.size}<extra></extra>",
         "hovertext": [
          "France",
          "France",
          "France",
          "France",
          "France",
          "France"
         ],
         "legendgroup": "France",
         "marker": {
          "color": "#ab63fa",
          "size": [
           1392,
           279,
           1819,
           1262,
           2140,
           1204
          ],
          "sizemode": "area",
          "sizeref": 12.1362,
          "symbol": "circle"
         },
         "mode": "markers",
         "name": "France",
         "orientation": "v",
         "showlegend": true,
         "type": "scatter",
         "x": [
          "Mouse",
          "Monitor",
          "Keyboard",
          "Camera",
          "Smartphone",
          "Processor"
         ],
         "xaxis": "x",
         "y": [
          547316.24,
          635596.93,
          1444006.98,
          1973779.11,
          2569416.97,
          4069609.53
         ],
         "yaxis": "y"
        },
        {
         "hovertemplate": "<b>%{hovertext}</b><br><br>Country=UK<br>product=%{x}<br>total_sales=%{y}<br>orders=%{marker.size}<extra></extra>",
         "hovertext": [
          "UK",
          "UK",
          "UK",
          "UK",
          "UK",
          "UK"
         ],
         "legendgroup": "UK",
         "marker": {
          "color": "#FFA15A",
          "size": [
           1576,
           276,
           2061,
           1440,
           2312,
           1001
          ],
          "sizemode": "area",
          "sizeref": 12.1362,
          "symbol": "circle"
         },
         "mode": "markers",
         "name": "UK",
         "orientation": "v",
         "showlegend": true,
         "type": "scatter",
         "x": [
          "Mouse",
          "Monitor",
          "Keyboard",
          "Camera",
          "Smartphone",
          "Processor"
         ],
         "xaxis": "x",
         "y": [
          733699.4,
          850754.84,
          1389976.18,
          2515553.8,
          2718894.69,
          2858043.49
         ],
         "yaxis": "y"
        },
        {
         "hovertemplate": "<b>%{hovertext}</b><br><br>Country=Ireland<br>product=%{x}<br>total_sales=%{y}<br>orders=%{marker.size}<extra></extra>",
         "hovertext": [
          "Ireland",
          "Ireland",
          "Ireland",
          "Ireland",
          "Ireland",
          "Ireland"
         ],
         "legendgroup": "Ireland",
         "marker": {
          "color": "#19d3f3",
          "size": [
           1413,
           314,
           1753,
           1461,
           1973,
           980
          ],
          "sizemode": "area",
          "sizeref": 12.1362,
          "symbol": "circle"
         },
         "mode": "markers",
         "name": "Ireland",
         "orientation": "v",
         "showlegend": true,
         "type": "scatter",
         "x": [
          "Mouse",
          "Monitor",
          "Keyboard",
          "Camera",
          "Smartphone",
          "Processor"
         ],
         "xaxis": "x",
         "y": [
          798332.98,
          1329621.36,
          2530325.07,
          3075371.97,
          3446978.53,
          4401370.39
         ],
         "yaxis": "y"
        },
        {
         "hovertemplate": "<b>%{hovertext}</b><br><br>Country=Netherlands<br>product=%{x}<br>total_sales=%{y}<br>orders=%{marker.size}<extra></extra>",
         "hovertext": [
          "Netherlands",
          "Netherlands",
          "Netherlands",
          "Netherlands",
          "Netherlands",
          "Netherlands"
         ],
         "legendgroup": "Netherlands",
         "marker": {
          "color": "#FF6692",
          "size": [
           54,
           441,
           489,
           579,
           417,
           346
          ],
          "sizemode": "area",
          "sizeref": 12.1362,
          "symbol": "circle"
         },
         "mode": "markers",
         "name": "Netherlands",
         "orientation": "v",
         "showlegend": true,
         "type": "scatter",
         "x": [
          "Monitor",
          "Mouse",
          "Keyboard",
          "Smartphone",
          "Camera",
          "Processor"
         ],
         "xaxis": "x",
         "y": [
          903619.7,
          1129975.7,
          2148838.69,
          5473772.03,
          5776800.26,
          6134084.13
         ],
         "yaxis": "y"
        },
        {
         "hovertemplate": "<b>%{hovertext}</b><br><br>Country=Germany<br>product=%{x}<br>total_sales=%{y}<br>orders=%{marker.size}<extra></extra>",
         "hovertext": [
          "Germany",
          "Germany",
          "Germany",
          "Germany",
          "Germany",
          "Germany"
         ],
         "legendgroup": "Germany",
         "marker": {
          "color": "#B6E880",
          "size": [
           86535,
           20382,
           104233,
           87824,
           121362,
           65283
          ],
          "sizemode": "area",
          "sizeref": 12.1362,
          "symbol": "circle"
         },
         "mode": "markers",
         "name": "Germany",
         "orientation": "v",
         "showlegend": true,
         "type": "scatter",
         "x": [
          "Mouse",
          "Monitor",
          "Keyboard",
          "Camera",
          "Smartphone",
          "Processor"
         ],
         "xaxis": "x",
         "y": [
          27085538.79,
          45990706.67,
          50713512.57,
          104211750.42,
          132818883.56,
          135044100.92
         ],
         "yaxis": "y"
        }
       ],
       "layout": {
        "font": {
         "family": "Switzerland",
         "size": 20
        },
        "height": 800,
        "legend": {
         "itemsizing": "constant",
         "title": {
          "text": "Country"
         },
         "tracegroupgap": 0
        },
        "margin": {
         "b": 0,
         "l": 0,
         "r": 0,
         "t": 0
        },
        "plot_bgcolor": "rgba(0,0,0,0)",
        "showlegend": true,
        "template": {
         "data": {
          "bar": [
           {
            "error_x": {
             "color": "#2a3f5f"
            },
            "error_y": {
             "color": "#2a3f5f"
            },
            "marker": {
             "line": {
              "color": "#E5ECF6",
              "width": 0.5
             }
            },
            "type": "bar"
           }
          ],
          "barpolar": [
           {
            "marker": {
             "line": {
              "color": "#E5ECF6",
              "width": 0.5
             }
            },
            "type": "barpolar"
           }
          ],
          "carpet": [
           {
            "aaxis": {
             "endlinecolor": "#2a3f5f",
             "gridcolor": "white",
             "linecolor": "white",
             "minorgridcolor": "white",
             "startlinecolor": "#2a3f5f"
            },
            "baxis": {
             "endlinecolor": "#2a3f5f",
             "gridcolor": "white",
             "linecolor": "white",
             "minorgridcolor": "white",
             "startlinecolor": "#2a3f5f"
            },
            "type": "carpet"
           }
          ],
          "choropleth": [
           {
            "colorbar": {
             "outlinewidth": 0,
             "ticks": ""
            },
            "type": "choropleth"
           }
          ],
          "contour": [
           {
            "colorbar": {
             "outlinewidth": 0,
             "ticks": ""
            },
            "colorscale": [
             [
              0,
              "#0d0887"
             ],
             [
              0.1111111111111111,
              "#46039f"
             ],
             [
              0.2222222222222222,
              "#7201a8"
             ],
             [
              0.3333333333333333,
              "#9c179e"
             ],
             [
              0.4444444444444444,
              "#bd3786"
             ],
             [
              0.5555555555555556,
              "#d8576b"
             ],
             [
              0.6666666666666666,
              "#ed7953"
             ],
             [
              0.7777777777777778,
              "#fb9f3a"
             ],
             [
              0.8888888888888888,
              "#fdca26"
             ],
             [
              1,
              "#f0f921"
             ]
            ],
            "type": "contour"
           }
          ],
          "contourcarpet": [
           {
            "colorbar": {
             "outlinewidth": 0,
             "ticks": ""
            },
            "type": "contourcarpet"
           }
          ],
          "heatmap": [
           {
            "colorbar": {
             "outlinewidth": 0,
             "ticks": ""
            },
            "colorscale": [
             [
              0,
              "#0d0887"
             ],
             [
              0.1111111111111111,
              "#46039f"
             ],
             [
              0.2222222222222222,
              "#7201a8"
             ],
             [
              0.3333333333333333,
              "#9c179e"
             ],
             [
              0.4444444444444444,
              "#bd3786"
             ],
             [
              0.5555555555555556,
              "#d8576b"
             ],
             [
              0.6666666666666666,
              "#ed7953"
             ],
             [
              0.7777777777777778,
              "#fb9f3a"
             ],
             [
              0.8888888888888888,
              "#fdca26"
             ],
             [
              1,
              "#f0f921"
             ]
            ],
            "type": "heatmap"
           }
          ],
          "heatmapgl": [
           {
            "colorbar": {
             "outlinewidth": 0,
             "ticks": ""
            },
            "colorscale": [
             [
              0,
              "#0d0887"
             ],
             [
              0.1111111111111111,
              "#46039f"
             ],
             [
              0.2222222222222222,
              "#7201a8"
             ],
             [
              0.3333333333333333,
              "#9c179e"
             ],
             [
              0.4444444444444444,
              "#bd3786"
             ],
             [
              0.5555555555555556,
              "#d8576b"
             ],
             [
              0.6666666666666666,
              "#ed7953"
             ],
             [
              0.7777777777777778,
              "#fb9f3a"
             ],
             [
              0.8888888888888888,
              "#fdca26"
             ],
             [
              1,
              "#f0f921"
             ]
            ],
            "type": "heatmapgl"
           }
          ],
          "histogram": [
           {
            "marker": {
             "colorbar": {
              "outlinewidth": 0,
              "ticks": ""
             }
            },
            "type": "histogram"
           }
          ],
          "histogram2d": [
           {
            "colorbar": {
             "outlinewidth": 0,
             "ticks": ""
            },
            "colorscale": [
             [
              0,
              "#0d0887"
             ],
             [
              0.1111111111111111,
              "#46039f"
             ],
             [
              0.2222222222222222,
              "#7201a8"
             ],
             [
              0.3333333333333333,
              "#9c179e"
             ],
             [
              0.4444444444444444,
              "#bd3786"
             ],
             [
              0.5555555555555556,
              "#d8576b"
             ],
             [
              0.6666666666666666,
              "#ed7953"
             ],
             [
              0.7777777777777778,
              "#fb9f3a"
             ],
             [
              0.8888888888888888,
              "#fdca26"
             ],
             [
              1,
              "#f0f921"
             ]
            ],
            "type": "histogram2d"
           }
          ],
          "histogram2dcontour": [
           {
            "colorbar": {
             "outlinewidth": 0,
             "ticks": ""
            },
            "colorscale": [
             [
              0,
              "#0d0887"
             ],
             [
              0.1111111111111111,
              "#46039f"
             ],
             [
              0.2222222222222222,
              "#7201a8"
             ],
             [
              0.3333333333333333,
              "#9c179e"
             ],
             [
              0.4444444444444444,
              "#bd3786"
             ],
             [
              0.5555555555555556,
              "#d8576b"
             ],
             [
              0.6666666666666666,
              "#ed7953"
             ],
             [
              0.7777777777777778,
              "#fb9f3a"
             ],
             [
              0.8888888888888888,
              "#fdca26"
             ],
             [
              1,
              "#f0f921"
             ]
            ],
            "type": "histogram2dcontour"
           }
          ],
          "mesh3d": [
           {
            "colorbar": {
             "outlinewidth": 0,
             "ticks": ""
            },
            "type": "mesh3d"
           }
          ],
          "parcoords": [
           {
            "line": {
             "colorbar": {
              "outlinewidth": 0,
              "ticks": ""
             }
            },
            "type": "parcoords"
           }
          ],
          "pie": [
           {
            "automargin": true,
            "type": "pie"
           }
          ],
          "scatter": [
           {
            "marker": {
             "colorbar": {
              "outlinewidth": 0,
              "ticks": ""
             }
            },
            "type": "scatter"
           }
          ],
          "scatter3d": [
           {
            "line": {
             "colorbar": {
              "outlinewidth": 0,
              "ticks": ""
             }
            },
            "marker": {
             "colorbar": {
              "outlinewidth": 0,
              "ticks": ""
             }
            },
            "type": "scatter3d"
           }
          ],
          "scattercarpet": [
           {
            "marker": {
             "colorbar": {
              "outlinewidth": 0,
              "ticks": ""
             }
            },
            "type": "scattercarpet"
           }
          ],
          "scattergeo": [
           {
            "marker": {
             "colorbar": {
              "outlinewidth": 0,
              "ticks": ""
             }
            },
            "type": "scattergeo"
           }
          ],
          "scattergl": [
           {
            "marker": {
             "colorbar": {
              "outlinewidth": 0,
              "ticks": ""
             }
            },
            "type": "scattergl"
           }
          ],
          "scattermapbox": [
           {
            "marker": {
             "colorbar": {
              "outlinewidth": 0,
              "ticks": ""
             }
            },
            "type": "scattermapbox"
           }
          ],
          "scatterpolar": [
           {
            "marker": {
             "colorbar": {
              "outlinewidth": 0,
              "ticks": ""
             }
            },
            "type": "scatterpolar"
           }
          ],
          "scatterpolargl": [
           {
            "marker": {
             "colorbar": {
              "outlinewidth": 0,
              "ticks": ""
             }
            },
            "type": "scatterpolargl"
           }
          ],
          "scatterternary": [
           {
            "marker": {
             "colorbar": {
              "outlinewidth": 0,
              "ticks": ""
             }
            },
            "type": "scatterternary"
           }
          ],
          "surface": [
           {
            "colorbar": {
             "outlinewidth": 0,
             "ticks": ""
            },
            "colorscale": [
             [
              0,
              "#0d0887"
             ],
             [
              0.1111111111111111,
              "#46039f"
             ],
             [
              0.2222222222222222,
              "#7201a8"
             ],
             [
              0.3333333333333333,
              "#9c179e"
             ],
             [
              0.4444444444444444,
              "#bd3786"
             ],
             [
              0.5555555555555556,
              "#d8576b"
             ],
             [
              0.6666666666666666,
              "#ed7953"
             ],
             [
              0.7777777777777778,
              "#fb9f3a"
             ],
             [
              0.8888888888888888,
              "#fdca26"
             ],
             [
              1,
              "#f0f921"
             ]
            ],
            "type": "surface"
           }
          ],
          "table": [
           {
            "cells": {
             "fill": {
              "color": "#EBF0F8"
             },
             "line": {
              "color": "white"
             }
            },
            "header": {
             "fill": {
              "color": "#C8D4E3"
             },
             "line": {
              "color": "white"
             }
            },
            "type": "table"
           }
          ]
         },
         "layout": {
          "annotationdefaults": {
           "arrowcolor": "#2a3f5f",
           "arrowhead": 0,
           "arrowwidth": 1
          },
          "autotypenumbers": "strict",
          "coloraxis": {
           "colorbar": {
            "outlinewidth": 0,
            "ticks": ""
           }
          },
          "colorscale": {
           "diverging": [
            [
             0,
             "#8e0152"
            ],
            [
             0.1,
             "#c51b7d"
            ],
            [
             0.2,
             "#de77ae"
            ],
            [
             0.3,
             "#f1b6da"
            ],
            [
             0.4,
             "#fde0ef"
            ],
            [
             0.5,
             "#f7f7f7"
            ],
            [
             0.6,
             "#e6f5d0"
            ],
            [
             0.7,
             "#b8e186"
            ],
            [
             0.8,
             "#7fbc41"
            ],
            [
             0.9,
             "#4d9221"
            ],
            [
             1,
             "#276419"
            ]
           ],
           "sequential": [
            [
             0,
             "#0d0887"
            ],
            [
             0.1111111111111111,
             "#46039f"
            ],
            [
             0.2222222222222222,
             "#7201a8"
            ],
            [
             0.3333333333333333,
             "#9c179e"
            ],
            [
             0.4444444444444444,
             "#bd3786"
            ],
            [
             0.5555555555555556,
             "#d8576b"
            ],
            [
             0.6666666666666666,
             "#ed7953"
            ],
            [
             0.7777777777777778,
             "#fb9f3a"
            ],
            [
             0.8888888888888888,
             "#fdca26"
            ],
            [
             1,
             "#f0f921"
            ]
           ],
           "sequentialminus": [
            [
             0,
             "#0d0887"
            ],
            [
             0.1111111111111111,
             "#46039f"
            ],
            [
             0.2222222222222222,
             "#7201a8"
            ],
            [
             0.3333333333333333,
             "#9c179e"
            ],
            [
             0.4444444444444444,
             "#bd3786"
            ],
            [
             0.5555555555555556,
             "#d8576b"
            ],
            [
             0.6666666666666666,
             "#ed7953"
            ],
            [
             0.7777777777777778,
             "#fb9f3a"
            ],
            [
             0.8888888888888888,
             "#fdca26"
            ],
            [
             1,
             "#f0f921"
            ]
           ]
          },
          "colorway": [
           "#636efa",
           "#EF553B",
           "#00cc96",
           "#ab63fa",
           "#FFA15A",
           "#19d3f3",
           "#FF6692",
           "#B6E880",
           "#FF97FF",
           "#FECB52"
          ],
          "font": {
           "color": "#2a3f5f"
          },
          "geo": {
           "bgcolor": "white",
           "lakecolor": "white",
           "landcolor": "#E5ECF6",
           "showlakes": true,
           "showland": true,
           "subunitcolor": "white"
          },
          "hoverlabel": {
           "align": "left"
          },
          "hovermode": "closest",
          "mapbox": {
           "style": "light"
          },
          "paper_bgcolor": "white",
          "plot_bgcolor": "#E5ECF6",
          "polar": {
           "angularaxis": {
            "gridcolor": "white",
            "linecolor": "white",
            "ticks": ""
           },
           "bgcolor": "#E5ECF6",
           "radialaxis": {
            "gridcolor": "white",
            "linecolor": "white",
            "ticks": ""
           }
          },
          "scene": {
           "xaxis": {
            "backgroundcolor": "#E5ECF6",
            "gridcolor": "white",
            "gridwidth": 2,
            "linecolor": "white",
            "showbackground": true,
            "ticks": "",
            "zerolinecolor": "white"
           },
           "yaxis": {
            "backgroundcolor": "#E5ECF6",
            "gridcolor": "white",
            "gridwidth": 2,
            "linecolor": "white",
            "showbackground": true,
            "ticks": "",
            "zerolinecolor": "white"
           },
           "zaxis": {
            "backgroundcolor": "#E5ECF6",
            "gridcolor": "white",
            "gridwidth": 2,
            "linecolor": "white",
            "showbackground": true,
            "ticks": "",
            "zerolinecolor": "white"
           }
          },
          "shapedefaults": {
           "line": {
            "color": "#2a3f5f"
           }
          },
          "ternary": {
           "aaxis": {
            "gridcolor": "white",
            "linecolor": "white",
            "ticks": ""
           },
           "baxis": {
            "gridcolor": "white",
            "linecolor": "white",
            "ticks": ""
           },
           "bgcolor": "#E5ECF6",
           "caxis": {
            "gridcolor": "white",
            "linecolor": "white",
            "ticks": ""
           }
          },
          "title": {
           "x": 0.05
          },
          "xaxis": {
           "automargin": true,
           "gridcolor": "white",
           "linecolor": "white",
           "ticks": "",
           "title": {
            "standoff": 15
           },
           "zerolinecolor": "white",
           "zerolinewidth": 2
          },
          "yaxis": {
           "automargin": true,
           "gridcolor": "white",
           "linecolor": "white",
           "ticks": "",
           "title": {
            "standoff": 15
           },
           "zerolinecolor": "white",
           "zerolinewidth": 2
          }
         }
        },
        "width": 1800,
        "xaxis": {
         "anchor": "y",
         "domain": [
          0,
          1
         ],
         "showgrid": false,
         "showline": false,
         "title": {
          "text": "Products"
         }
        },
        "yaxis": {
         "anchor": "x",
         "domain": [
          0,
          1
         ],
         "showgrid": false,
         "showline": false,
         "title": {
          "text": "Turnover per Product and Orders Sum"
         }
        }
       }
      }
     },
     "metadata": {}
    }
   ],
   "source": [
    "fig = px.scatter(df, x=\"product\", y=\"total_sales\", color = 'Country',\n",
    "\t         size=\"orders\",\n",
    "                 hover_name=\"Country\", size_max=100)\n",
    "fig.update_xaxes(\n",
    "     title_text = 'Products',\n",
    "     showline = False, showgrid = False\n",
    "     )\n",
    "fig.update_yaxes(\n",
    "     title_text = 'Turnover per Product and Orders Sum',\n",
    "     showline = False, showgrid = False\n",
    "     )\n",
    "fig.update_layout(\n",
    "     plot_bgcolor='rgba(0,0,0,0)',\n",
    "     width=1800,\n",
    "     height=800,\n",
    "     margin={\"r\":0,\"t\":0,\"l\":0,\"b\":0},\n",
    "     showlegend = True,\n",
    "     font_family = \"Switzerland\",\n",
    "     font_size=20)\n",
    "fig.show()"
   ]
  },
  {
   "cell_type": "code",
   "execution_count": 27,
   "metadata": {},
   "outputs": [],
   "source": [
    "fig.write_html(\"ecommerce_graphs_product.html\")"
   ]
  },
  {
   "cell_type": "code",
   "execution_count": 28,
   "metadata": {},
   "outputs": [
    {
     "output_type": "display_data",
     "data": {
      "application/vnd.plotly.v1+json": {
       "config": {
        "plotlyServerURL": "https://plot.ly"
       },
       "data": [
        {
         "hovertemplate": "<b>%{hovertext}</b><br><br>Country=Saudi Arabia<br>product=%{x}<br>average_order_value=%{y}<br>orders=%{marker.size}<extra></extra>",
         "hovertext": [
          "Saudi Arabia",
          "Saudi Arabia",
          "Saudi Arabia",
          "Saudi Arabia",
          "Saudi Arabia"
         ],
         "legendgroup": "Saudi Arabia",
         "marker": {
          "color": "#636efa",
          "size": [
           1,
           2,
           1,
           2,
           3
          ],
          "sizemode": "area",
          "sizeref": 12.1362,
          "symbol": "circle"
         },
         "mode": "markers",
         "name": "Saudi Arabia",
         "orientation": "v",
         "showlegend": true,
         "type": "scatter",
         "x": [
          "Camera",
          "Mouse",
          "Processor",
          "Keyboard",
          "Smartphone"
         ],
         "xaxis": "x",
         "y": [
          159.98,
          203.67,
          1019.94,
          539.88,
          1559.86
         ],
         "yaxis": "y"
        },
        {
         "hovertemplate": "<b>%{hovertext}</b><br><br>Country=RSA<br>product=%{x}<br>average_order_value=%{y}<br>orders=%{marker.size}<extra></extra>",
         "hovertext": [
          "RSA",
          "RSA",
          "RSA",
          "RSA",
          "RSA",
          "RSA"
         ],
         "legendgroup": "RSA",
         "marker": {
          "color": "#EF553B",
          "size": [
           6,
           7,
           14,
           3,
           8,
           19
          ],
          "sizemode": "area",
          "sizeref": 12.1362,
          "symbol": "circle"
         },
         "mode": "markers",
         "name": "RSA",
         "orientation": "v",
         "showlegend": true,
         "type": "scatter",
         "x": [
          "Camera",
          "Keyboard",
          "Mouse",
          "Monitor",
          "Processor",
          "Smartphone"
         ],
         "xaxis": "x",
         "y": [
          127.41,
          118.82,
          123.67,
          890.97,
          668.92,
          817.83
         ],
         "yaxis": "y"
        },
        {
         "hovertemplate": "<b>%{hovertext}</b><br><br>Country=Bahrain<br>product=%{x}<br>average_order_value=%{y}<br>orders=%{marker.size}<extra></extra>",
         "hovertext": [
          "Bahrain",
          "Bahrain",
          "Bahrain",
          "Bahrain",
          "Bahrain"
         ],
         "legendgroup": "Bahrain",
         "marker": {
          "color": "#00cc96",
          "size": [
           2,
           2,
           3,
           5,
           6
          ],
          "sizemode": "area",
          "sizeref": 12.1362,
          "symbol": "circle"
         },
         "mode": "markers",
         "name": "Bahrain",
         "orientation": "v",
         "showlegend": true,
         "type": "scatter",
         "x": [
          "Mouse",
          "Smartphone",
          "Monitor",
          "Keyboard",
          "Camera"
         ],
         "xaxis": "x",
         "y": [
          500.88,
          727.47,
          1135.3,
          1097.25,
          4820.69
         ],
         "yaxis": "y"
        },
        {
         "hovertemplate": "<b>%{hovertext}</b><br><br>Country=Czech Republic<br>product=%{x}<br>average_order_value=%{y}<br>orders=%{marker.size}<extra></extra>",
         "hovertext": [
          "Czech Republic",
          "Czech Republic",
          "Czech Republic",
          "Czech Republic",
          "Czech Republic",
          "Czech Republic"
         ],
         "legendgroup": "Czech Republic",
         "marker": {
          "color": "#ab63fa",
          "size": [
           2,
           5,
           4,
           4,
           7,
           2
          ],
          "sizemode": "area",
          "sizeref": 12.1362,
          "symbol": "circle"
         },
         "mode": "markers",
         "name": "Czech Republic",
         "orientation": "v",
         "showlegend": true,
         "type": "scatter",
         "x": [
          "Camera",
          "Keyboard",
          "Mouse",
          "Monitor",
          "Smartphone",
          "Processor"
         ],
         "xaxis": "x",
         "y": [
          613.56,
          772.3,
          2142.48,
          2779.56,
          2359.44,
          23447.58
         ],
         "yaxis": "y"
        },
        {
         "hovertemplate": "<b>%{hovertext}</b><br><br>Country=Lebanon<br>product=%{x}<br>average_order_value=%{y}<br>orders=%{marker.size}<extra></extra>",
         "hovertext": [
          "Lebanon",
          "Lebanon",
          "Lebanon",
          "Lebanon",
          "Lebanon",
          "Lebanon"
         ],
         "legendgroup": "Lebanon",
         "marker": {
          "color": "#FFA15A",
          "size": [
           7,
           9,
           5,
           1,
           10,
           13
          ],
          "sizemode": "area",
          "sizeref": 12.1362,
          "symbol": "circle"
         },
         "mode": "markers",
         "name": "Lebanon",
         "orientation": "v",
         "showlegend": true,
         "type": "scatter",
         "x": [
          "Mouse",
          "Keyboard",
          "Processor",
          "Monitor",
          "Camera",
          "Smartphone"
         ],
         "xaxis": "x",
         "y": [
          175.41,
          221.32,
          958.38,
          5985,
          1022.73,
          1543.11
         ],
         "yaxis": "y"
        },
        {
         "hovertemplate": "<b>%{hovertext}</b><br><br>Country=Brazil<br>product=%{x}<br>average_order_value=%{y}<br>orders=%{marker.size}<extra></extra>",
         "hovertext": [
          "Brazil",
          "Brazil",
          "Brazil",
          "Brazil",
          "Brazil",
          "Brazil"
         ],
         "legendgroup": "Brazil",
         "marker": {
          "color": "#19d3f3",
          "size": [
           5,
           2,
           5,
           5,
           6,
           9
          ],
          "sizemode": "area",
          "sizeref": 12.1362,
          "symbol": "circle"
         },
         "mode": "markers",
         "name": "Brazil",
         "orientation": "v",
         "showlegend": true,
         "type": "scatter",
         "x": [
          "Mouse",
          "Monitor",
          "Keyboard",
          "Processor",
          "Smartphone",
          "Camera"
         ],
         "xaxis": "x",
         "y": [
          290.44,
          947.96,
          382.32,
          2082.05,
          1922.15,
          1997.48
         ],
         "yaxis": "y"
        },
        {
         "hovertemplate": "<b>%{hovertext}</b><br><br>Country=Lithuania<br>product=%{x}<br>average_order_value=%{y}<br>orders=%{marker.size}<extra></extra>",
         "hovertext": [
          "Lithuania",
          "Lithuania",
          "Lithuania",
          "Lithuania",
          "Lithuania",
          "Lithuania"
         ],
         "legendgroup": "Lithuania",
         "marker": {
          "color": "#FF6692",
          "size": [
           6,
           8,
           1,
           6,
           6,
           8
          ],
          "sizemode": "area",
          "sizeref": 12.1362,
          "symbol": "circle"
         },
         "mode": "markers",
         "name": "Lithuania",
         "orientation": "v",
         "showlegend": true,
         "type": "scatter",
         "x": [
          "Mouse",
          "Keyboard",
          "Monitor",
          "Processor",
          "Camera",
          "Smartphone"
         ],
         "xaxis": "x",
         "y": [
          247.08,
          410.98,
          4738.68,
          1706.57,
          2338.4,
          3291.07
         ],
         "yaxis": "y"
        },
        {
         "hovertemplate": "<b>%{hovertext}</b><br><br>Country=European Community<br>product=%{x}<br>average_order_value=%{y}<br>orders=%{marker.size}<extra></extra>",
         "hovertext": [
          "European Community",
          "European Community",
          "European Community",
          "European Community",
          "European Community",
          "European Community"
         ],
         "legendgroup": "European Community",
         "marker": {
          "color": "#B6E880",
          "size": [
           9,
           11,
           15,
           3,
           2,
           17
          ],
          "sizemode": "area",
          "sizeref": 12.1362,
          "symbol": "circle"
         },
         "mode": "markers",
         "name": "European Community",
         "orientation": "v",
         "showlegend": true,
         "type": "scatter",
         "x": [
          "Mouse",
          "Smartphone",
          "Keyboard",
          "Processor",
          "Monitor",
          "Camera"
         ],
         "xaxis": "x",
         "y": [
          253.51,
          299.82,
          296.12,
          1576.59,
          2633.37,
          2362.66
         ],
         "yaxis": "y"
        },
        {
         "hovertemplate": "<b>%{hovertext}</b><br><br>Country=Malta<br>product=%{x}<br>average_order_value=%{y}<br>orders=%{marker.size}<extra></extra>",
         "hovertext": [
          "Malta",
          "Malta",
          "Malta",
          "Malta",
          "Malta",
          "Malta"
         ],
         "legendgroup": "Malta",
         "marker": {
          "color": "#FF97FF",
          "size": [
           4,
           20,
           25,
           13,
           23,
           24
          ],
          "sizemode": "area",
          "sizeref": 12.1362,
          "symbol": "circle"
         },
         "mode": "markers",
         "name": "Malta",
         "orientation": "v",
         "showlegend": true,
         "type": "scatter",
         "x": [
          "Monitor",
          "Keyboard",
          "Mouse",
          "Processor",
          "Camera",
          "Smartphone"
         ],
         "xaxis": "x",
         "y": [
          583.67,
          287.66,
          329.7,
          1572.43,
          1991.59,
          1958.07
         ],
         "yaxis": "y"
        },
        {
         "hovertemplate": "<b>%{hovertext}</b><br><br>Country=USA<br>product=%{x}<br>average_order_value=%{y}<br>orders=%{marker.size}<extra></extra>",
         "hovertext": [
          "USA",
          "USA",
          "USA",
          "USA",
          "USA",
          "USA"
         ],
         "legendgroup": "USA",
         "marker": {
          "color": "#FECB52",
          "size": [
           4,
           33,
           44,
           38,
           21,
           39
          ],
          "sizemode": "area",
          "sizeref": 12.1362,
          "symbol": "circle"
         },
         "mode": "markers",
         "name": "USA",
         "orientation": "v",
         "showlegend": true,
         "type": "scatter",
         "x": [
          "Monitor",
          "Mouse",
          "Keyboard",
          "Smartphone",
          "Processor",
          "Camera"
         ],
         "xaxis": "x",
         "y": [
          1509.15,
          274.58,
          410.12,
          849.99,
          4482.7,
          2792.03
         ],
         "yaxis": "y"
        },
        {
         "hovertemplate": "<b>%{hovertext}</b><br><br>Country=United Arab Emirates<br>product=%{x}<br>average_order_value=%{y}<br>orders=%{marker.size}<extra></extra>",
         "hovertext": [
          "United Arab Emirates",
          "United Arab Emirates",
          "United Arab Emirates",
          "United Arab Emirates",
          "United Arab Emirates",
          "United Arab Emirates"
         ],
         "legendgroup": "United Arab Emirates",
         "marker": {
          "color": "#636efa",
          "size": [
           4,
           12,
           16,
           4,
           16,
           14
          ],
          "sizemode": "area",
          "sizeref": 12.1362,
          "symbol": "circle"
         },
         "mode": "markers",
         "name": "United Arab Emirates",
         "orientation": "v",
         "showlegend": true,
         "type": "scatter",
         "x": [
          "Monitor",
          "Mouse",
          "Keyboard",
          "Processor",
          "Camera",
          "Smartphone"
         ],
         "xaxis": "x",
         "y": [
          1736.86,
          635.26,
          749.19,
          3108.49,
          1202.99,
          1565.95
         ],
         "yaxis": "y"
        },
        {
         "hovertemplate": "<b>%{hovertext}</b><br><br>Country=Greece<br>product=%{x}<br>average_order_value=%{y}<br>orders=%{marker.size}<extra></extra>",
         "hovertext": [
          "Greece",
          "Greece",
          "Greece",
          "Greece",
          "Greece",
          "Greece"
         ],
         "legendgroup": "Greece",
         "marker": {
          "color": "#EF553B",
          "size": [
           6,
           30,
           30,
           17,
           35,
           24
          ],
          "sizemode": "area",
          "sizeref": 12.1362,
          "symbol": "circle"
         },
         "mode": "markers",
         "name": "Greece",
         "orientation": "v",
         "showlegend": true,
         "type": "scatter",
         "x": [
          "Monitor",
          "Mouse",
          "Keyboard",
          "Processor",
          "Smartphone",
          "Camera"
         ],
         "xaxis": "x",
         "y": [
          1501.54,
          332.2,
          447.89,
          1528.99,
          767.68,
          2104.32
         ],
         "yaxis": "y"
        },
        {
         "hovertemplate": "<b>%{hovertext}</b><br><br>Country=Iceland<br>product=%{x}<br>average_order_value=%{y}<br>orders=%{marker.size}<extra></extra>",
         "hovertext": [
          "Iceland",
          "Iceland",
          "Iceland",
          "Iceland",
          "Iceland",
          "Iceland"
         ],
         "legendgroup": "Iceland",
         "marker": {
          "color": "#00cc96",
          "size": [
           27,
           9,
           29,
           36,
           42,
           39
          ],
          "sizemode": "area",
          "sizeref": 12.1362,
          "symbol": "circle"
         },
         "mode": "markers",
         "name": "Iceland",
         "orientation": "v",
         "showlegend": true,
         "type": "scatter",
         "x": [
          "Mouse",
          "Monitor",
          "Camera",
          "Keyboard",
          "Smartphone",
          "Processor"
         ],
         "xaxis": "x",
         "y": [
          385.65,
          1732.81,
          601.15,
          487.8,
          1428.83,
          2361.18
         ],
         "yaxis": "y"
        },
        {
         "hovertemplate": "<b>%{hovertext}</b><br><br>Country=Canada<br>product=%{x}<br>average_order_value=%{y}<br>orders=%{marker.size}<extra></extra>",
         "hovertext": [
          "Canada",
          "Canada",
          "Canada",
          "Canada",
          "Canada",
          "Canada"
         ],
         "legendgroup": "Canada",
         "marker": {
          "color": "#ab63fa",
          "size": [
           27,
           7,
           36,
           20,
           30,
           30
          ],
          "sizemode": "area",
          "sizeref": 12.1362,
          "symbol": "circle"
         },
         "mode": "markers",
         "name": "Canada",
         "orientation": "v",
         "showlegend": true,
         "type": "scatter",
         "x": [
          "Mouse",
          "Monitor",
          "Smartphone",
          "Processor",
          "Keyboard",
          "Camera"
         ],
         "xaxis": "x",
         "y": [
          416.98,
          3432.47,
          810.95,
          2147.02,
          1571.86,
          2389.06
         ],
         "yaxis": "y"
        },
        {
         "hovertemplate": "<b>%{hovertext}</b><br><br>Country=Hong Kong<br>product=%{x}<br>average_order_value=%{y}<br>orders=%{marker.size}<extra></extra>",
         "hovertext": [
          "Hong Kong",
          "Hong Kong",
          "Hong Kong",
          "Hong Kong",
          "Hong Kong",
          "Hong Kong"
         ],
         "legendgroup": "Hong Kong",
         "marker": {
          "color": "#FFA15A",
          "size": [
           41,
           13,
           70,
           74,
           46,
           38
          ],
          "sizemode": "area",
          "sizeref": 12.1362,
          "symbol": "circle"
         },
         "mode": "markers",
         "name": "Hong Kong",
         "orientation": "v",
         "showlegend": true,
         "type": "scatter",
         "x": [
          "Mouse",
          "Monitor",
          "Keyboard",
          "Smartphone",
          "Processor",
          "Camera"
         ],
         "xaxis": "x",
         "y": [
          299.68,
          2674.02,
          737.75,
          1290.48,
          2384.98,
          3567.04
         ],
         "yaxis": "y"
        },
        {
         "hovertemplate": "<b>%{hovertext}</b><br><br>Country=Unknown<br>product=%{x}<br>average_order_value=%{y}<br>orders=%{marker.size}<extra></extra>",
         "hovertext": [
          "Unknown",
          "Unknown",
          "Unknown",
          "Unknown",
          "Unknown",
          "Unknown"
         ],
         "legendgroup": "Unknown",
         "marker": {
          "color": "#19d3f3",
          "size": [
           73,
           17,
           103,
           105,
           54,
           94
          ],
          "sizemode": "area",
          "sizeref": 12.1362,
          "symbol": "circle"
         },
         "mode": "markers",
         "name": "Unknown",
         "orientation": "v",
         "showlegend": true,
         "type": "scatter",
         "x": [
          "Mouse",
          "Monitor",
          "Keyboard",
          "Smartphone",
          "Processor",
          "Camera"
         ],
         "xaxis": "x",
         "y": [
          182.92,
          1561.84,
          385.56,
          465.18,
          1522.52,
          1132.75
         ],
         "yaxis": "y"
        },
        {
         "hovertemplate": "<b>%{hovertext}</b><br><br>Country=Israel<br>product=%{x}<br>average_order_value=%{y}<br>orders=%{marker.size}<extra></extra>",
         "hovertext": [
          "Israel",
          "Israel",
          "Israel",
          "Israel",
          "Israel",
          "Israel"
         ],
         "legendgroup": "Israel",
         "marker": {
          "color": "#FF6692",
          "size": [
           8,
           48,
           69,
           77,
           38,
           55
          ],
          "sizemode": "area",
          "sizeref": 12.1362,
          "symbol": "circle"
         },
         "mode": "markers",
         "name": "Israel",
         "orientation": "v",
         "showlegend": true,
         "type": "scatter",
         "x": [
          "Monitor",
          "Mouse",
          "Keyboard",
          "Smartphone",
          "Processor",
          "Camera"
         ],
         "xaxis": "x",
         "y": [
          1818.43,
          423.17,
          983.78,
          1166.34,
          3223.33,
          3491.5
         ],
         "yaxis": "y"
        },
        {
         "hovertemplate": "<b>%{hovertext}</b><br><br>Country=Poland<br>product=%{x}<br>average_order_value=%{y}<br>orders=%{marker.size}<extra></extra>",
         "hovertext": [
          "Poland",
          "Poland",
          "Poland",
          "Poland",
          "Poland",
          "Poland"
         ],
         "legendgroup": "Poland",
         "marker": {
          "color": "#B6E880",
          "size": [
           13,
           60,
           80,
           75,
           53,
           44
          ],
          "sizemode": "area",
          "sizeref": 12.1362,
          "symbol": "circle"
         },
         "mode": "markers",
         "name": "Poland",
         "orientation": "v",
         "showlegend": true,
         "type": "scatter",
         "x": [
          "Monitor",
          "Mouse",
          "Smartphone",
          "Keyboard",
          "Camera",
          "Processor"
         ],
         "xaxis": "x",
         "y": [
          1187.7,
          371.58,
          480.42,
          713.91,
          1179.02,
          4071.26
         ],
         "yaxis": "y"
        },
        {
         "hovertemplate": "<b>%{hovertext}</b><br><br>Country=Cyprus<br>product=%{x}<br>average_order_value=%{y}<br>orders=%{marker.size}<extra></extra>",
         "hovertext": [
          "Cyprus",
          "Cyprus",
          "Cyprus",
          "Cyprus",
          "Cyprus",
          "Cyprus"
         ],
         "legendgroup": "Cyprus",
         "marker": {
          "color": "#FF97FF",
          "size": [
           104,
           137,
           27,
           130,
           69,
           146
          ],
          "sizemode": "area",
          "sizeref": 12.1362,
          "symbol": "circle"
         },
         "mode": "markers",
         "name": "Cyprus",
         "orientation": "v",
         "showlegend": true,
         "type": "scatter",
         "x": [
          "Mouse",
          "Keyboard",
          "Monitor",
          "Smartphone",
          "Processor",
          "Camera"
         ],
         "xaxis": "x",
         "y": [
          217.29,
          371.52,
          3389.33,
          1371.9,
          2815.26,
          2172.22
         ],
         "yaxis": "y"
        },
        {
         "hovertemplate": "<b>%{hovertext}</b><br><br>Country=Austria<br>product=%{x}<br>average_order_value=%{y}<br>orders=%{marker.size}<extra></extra>",
         "hovertext": [
          "Austria",
          "Austria",
          "Austria",
          "Austria",
          "Austria",
          "Austria"
         ],
         "legendgroup": "Austria",
         "marker": {
          "color": "#FECB52",
          "size": [
           14,
           65,
           93,
           96,
           41,
           75
          ],
          "sizemode": "area",
          "sizeref": 12.1362,
          "symbol": "circle"
         },
         "mode": "markers",
         "name": "Austria",
         "orientation": "v",
         "showlegend": true,
         "type": "scatter",
         "x": [
          "Monitor",
          "Mouse",
          "Smartphone",
          "Keyboard",
          "Processor",
          "Camera"
         ],
         "xaxis": "x",
         "y": [
          1936.31,
          484.87,
          708.87,
          724.71,
          2408.31,
          1907.65
         ],
         "yaxis": "y"
        },
        {
         "hovertemplate": "<b>%{hovertext}</b><br><br>Country=Channel Islands<br>product=%{x}<br>average_order_value=%{y}<br>orders=%{marker.size}<extra></extra>",
         "hovertext": [
          "Channel Islands",
          "Channel Islands",
          "Channel Islands",
          "Channel Islands",
          "Channel Islands",
          "Channel Islands"
         ],
         "legendgroup": "Channel Islands",
         "marker": {
          "color": "#636efa",
          "size": [
           124,
           33,
           112,
           155,
           110,
           213
          ],
          "sizemode": "area",
          "sizeref": 12.1362,
          "symbol": "circle"
         },
         "mode": "markers",
         "name": "Channel Islands",
         "orientation": "v",
         "showlegend": true,
         "type": "scatter",
         "x": [
          "Mouse",
          "Monitor",
          "Camera",
          "Keyboard",
          "Processor",
          "Smartphone"
         ],
         "xaxis": "x",
         "y": [
          269.18,
          2314.6,
          886.47,
          738.51,
          2209.93,
          1966.54
         ],
         "yaxis": "y"
        },
        {
         "hovertemplate": "<b>%{hovertext}</b><br><br>Country=Singapore<br>product=%{x}<br>average_order_value=%{y}<br>orders=%{marker.size}<extra></extra>",
         "hovertext": [
          "Singapore",
          "Singapore",
          "Singapore",
          "Singapore",
          "Singapore",
          "Singapore"
         ],
         "legendgroup": "Singapore",
         "marker": {
          "color": "#EF553B",
          "size": [
           38,
           7,
           52,
           44,
           41,
           37
          ],
          "sizemode": "area",
          "sizeref": 12.1362,
          "symbol": "circle"
         },
         "mode": "markers",
         "name": "Singapore",
         "orientation": "v",
         "showlegend": true,
         "type": "scatter",
         "x": [
          "Mouse",
          "Monitor",
          "Keyboard",
          "Smartphone",
          "Processor",
          "Camera"
         ],
         "xaxis": "x",
         "y": [
          893.9,
          5017.09,
          948.09,
          2456.37,
          5043.53,
          8181.12
         ],
         "yaxis": "y"
        },
        {
         "hovertemplate": "<b>%{hovertext}</b><br><br>Country=Denmark<br>product=%{x}<br>average_order_value=%{y}<br>orders=%{marker.size}<extra></extra>",
         "hovertext": [
          "Denmark",
          "Denmark",
          "Denmark",
          "Denmark",
          "Denmark",
          "Denmark"
         ],
         "legendgroup": "Denmark",
         "marker": {
          "color": "#00cc96",
          "size": [
           9,
           63,
           88,
           64,
           95,
           48
          ],
          "sizemode": "area",
          "sizeref": 12.1362,
          "symbol": "circle"
         },
         "mode": "markers",
         "name": "Denmark",
         "orientation": "v",
         "showlegend": true,
         "type": "scatter",
         "x": [
          "Monitor",
          "Mouse",
          "Keyboard",
          "Camera",
          "Smartphone",
          "Processor"
         ],
         "xaxis": "x",
         "y": [
          4152.54,
          607.5,
          1227.27,
          2125.59,
          1527.89,
          4031.11
         ],
         "yaxis": "y"
        },
        {
         "hovertemplate": "<b>%{hovertext}</b><br><br>Country=Finland<br>product=%{x}<br>average_order_value=%{y}<br>orders=%{marker.size}<extra></extra>",
         "hovertext": [
          "Finland",
          "Finland",
          "Finland",
          "Finland",
          "Finland",
          "Finland"
         ],
         "legendgroup": "Finland",
         "marker": {
          "color": "#ab63fa",
          "size": [
           101,
           22,
           160,
           102,
           167,
           96
          ],
          "sizemode": "area",
          "sizeref": 12.1362,
          "symbol": "circle"
         },
         "mode": "markers",
         "name": "Finland",
         "orientation": "v",
         "showlegend": true,
         "type": "scatter",
         "x": [
          "Mouse",
          "Monitor",
          "Keyboard",
          "Camera",
          "Smartphone",
          "Processor"
         ],
         "xaxis": "x",
         "y": [
          391.24,
          3975.4,
          871.15,
          1638.91,
          1082.88,
          4590.94
         ],
         "yaxis": "y"
        },
        {
         "hovertemplate": "<b>%{hovertext}</b><br><br>Country=Italy<br>product=%{x}<br>average_order_value=%{y}<br>orders=%{marker.size}<extra></extra>",
         "hovertext": [
          "Italy",
          "Italy",
          "Italy",
          "Italy",
          "Italy",
          "Italy"
         ],
         "legendgroup": "Italy",
         "marker": {
          "color": "#FFA15A",
          "size": [
           132,
           30,
           152,
           211,
           123,
           87
          ],
          "sizemode": "area",
          "sizeref": 12.1362,
          "symbol": "circle"
         },
         "mode": "markers",
         "name": "Italy",
         "orientation": "v",
         "showlegend": true,
         "type": "scatter",
         "x": [
          "Mouse",
          "Monitor",
          "Keyboard",
          "Smartphone",
          "Camera",
          "Processor"
         ],
         "xaxis": "x",
         "y": [
          417.1,
          1859.23,
          684.7,
          865.26,
          1746.42,
          4019.65
         ],
         "yaxis": "y"
        },
        {
         "hovertemplate": "<b>%{hovertext}</b><br><br>Country=Portugal<br>product=%{x}<br>average_order_value=%{y}<br>orders=%{marker.size}<extra></extra>",
         "hovertext": [
          "Portugal",
          "Portugal",
          "Portugal",
          "Portugal",
          "Portugal",
          "Portugal"
         ],
         "legendgroup": "Portugal",
         "marker": {
          "color": "#19d3f3",
          "size": [
           255,
           46,
           306,
           357,
           260,
           247
          ],
          "sizemode": "area",
          "sizeref": 12.1362,
          "symbol": "circle"
         },
         "mode": "markers",
         "name": "Portugal",
         "orientation": "v",
         "showlegend": true,
         "type": "scatter",
         "x": [
          "Mouse",
          "Monitor",
          "Keyboard",
          "Smartphone",
          "Camera",
          "Processor"
         ],
         "xaxis": "x",
         "y": [
          335.81,
          2029.38,
          563.67,
          969.87,
          1584.95,
          2289.74
         ],
         "yaxis": "y"
        },
        {
         "hovertemplate": "<b>%{hovertext}</b><br><br>Country=Japan<br>product=%{x}<br>average_order_value=%{y}<br>orders=%{marker.size}<extra></extra>",
         "hovertext": [
          "Japan",
          "Japan",
          "Japan",
          "Japan",
          "Japan",
          "Japan"
         ],
         "legendgroup": "Japan",
         "marker": {
          "color": "#FF6692",
          "size": [
           46,
           17,
           46,
           74,
           80,
           58
          ],
          "sizemode": "area",
          "sizeref": 12.1362,
          "symbol": "circle"
         },
         "mode": "markers",
         "name": "Japan",
         "orientation": "v",
         "showlegend": true,
         "type": "scatter",
         "x": [
          "Mouse",
          "Monitor",
          "Camera",
          "Smartphone",
          "Keyboard",
          "Processor"
         ],
         "xaxis": "x",
         "y": [
          1885.69,
          16334.73,
          7513.14,
          5367,
          8493.23,
          21712.87
         ],
         "yaxis": "y"
        },
        {
         "hovertemplate": "<b>%{hovertext}</b><br><br>Country=Norway<br>product=%{x}<br>average_order_value=%{y}<br>orders=%{marker.size}<extra></extra>",
         "hovertext": [
          "Norway",
          "Norway",
          "Norway",
          "Norway",
          "Norway",
          "Norway"
         ],
         "legendgroup": "Norway",
         "marker": {
          "color": "#B6E880",
          "size": [
           207,
           54,
           205,
           266,
           185,
           135
          ],
          "sizemode": "area",
          "sizeref": 12.1362,
          "symbol": "circle"
         },
         "mode": "markers",
         "name": "Norway",
         "orientation": "v",
         "showlegend": true,
         "type": "scatter",
         "x": [
          "Mouse",
          "Monitor",
          "Keyboard",
          "Smartphone",
          "Camera",
          "Processor"
         ],
         "xaxis": "x",
         "y": [
          518.47,
          3427.58,
          1150.68,
          1286.38,
          2207.45,
          3404.87
         ],
         "yaxis": "y"
        },
        {
         "hovertemplate": "<b>%{hovertext}</b><br><br>Country=Spain<br>product=%{x}<br>average_order_value=%{y}<br>orders=%{marker.size}<extra></extra>",
         "hovertext": [
          "Spain",
          "Spain",
          "Spain",
          "Spain",
          "Spain",
          "Spain"
         ],
         "legendgroup": "Spain",
         "marker": {
          "color": "#FF97FF",
          "size": [
           379,
           103,
           534,
           456,
           644,
           305
          ],
          "sizemode": "area",
          "sizeref": 12.1362,
          "symbol": "circle"
         },
         "mode": "markers",
         "name": "Spain",
         "orientation": "v",
         "showlegend": true,
         "type": "scatter",
         "x": [
          "Mouse",
          "Monitor",
          "Keyboard",
          "Camera",
          "Smartphone",
          "Processor"
         ],
         "xaxis": "x",
         "y": [
          298.97,
          1834.91,
          567.6,
          1460.3,
          1040.88,
          2411.87
         ],
         "yaxis": "y"
        },
        {
         "hovertemplate": "<b>%{hovertext}</b><br><br>Country=Belgium<br>product=%{x}<br>average_order_value=%{y}<br>orders=%{marker.size}<extra></extra>",
         "hovertext": [
          "Belgium",
          "Belgium",
          "Belgium",
          "Belgium",
          "Belgium",
          "Belgium"
         ],
         "legendgroup": "Belgium",
         "marker": {
          "color": "#FECB52",
          "size": [
           351,
           61,
           386,
           530,
           340,
           267
          ],
          "sizemode": "area",
          "sizeref": 12.1362,
          "symbol": "circle"
         },
         "mode": "markers",
         "name": "Belgium",
         "orientation": "v",
         "showlegend": true,
         "type": "scatter",
         "x": [
          "Mouse",
          "Monitor",
          "Keyboard",
          "Smartphone",
          "Camera",
          "Processor"
         ],
         "xaxis": "x",
         "y": [
          334.2,
          3799.71,
          933.68,
          982.73,
          1566.13,
          2532.83
         ],
         "yaxis": "y"
        },
        {
         "hovertemplate": "<b>%{hovertext}</b><br><br>Country=Switzerland<br>product=%{x}<br>average_order_value=%{y}<br>orders=%{marker.size}<extra></extra>",
         "hovertext": [
          "Switzerland",
          "Switzerland",
          "Switzerland",
          "Switzerland",
          "Switzerland",
          "Switzerland"
         ],
         "legendgroup": "Switzerland",
         "marker": {
          "color": "#636efa",
          "size": [
           359,
           81,
           449,
           213,
           499,
           333
          ],
          "sizemode": "area",
          "sizeref": 12.1362,
          "symbol": "circle"
         },
         "mode": "markers",
         "name": "Switzerland",
         "orientation": "v",
         "showlegend": true,
         "type": "scatter",
         "x": [
          "Mouse",
          "Monitor",
          "Keyboard",
          "Processor",
          "Smartphone",
          "Camera"
         ],
         "xaxis": "x",
         "y": [
          459.13,
          2629.65,
          789.25,
          2855.07,
          1352.54,
          2116.62
         ],
         "yaxis": "y"
        },
        {
         "hovertemplate": "<b>%{hovertext}</b><br><br>Country=Sweden<br>product=%{x}<br>average_order_value=%{y}<br>orders=%{marker.size}<extra></extra>",
         "hovertext": [
          "Sweden",
          "Sweden",
          "Sweden",
          "Sweden",
          "Sweden",
          "Sweden"
         ],
         "legendgroup": "Sweden",
         "marker": {
          "color": "#EF553B",
          "size": [
           71,
           13,
           108,
           123,
           64,
           50
          ],
          "sizemode": "area",
          "sizeref": 12.1362,
          "symbol": "circle"
         },
         "mode": "markers",
         "name": "Sweden",
         "orientation": "v",
         "showlegend": true,
         "type": "scatter",
         "x": [
          "Mouse",
          "Monitor",
          "Keyboard",
          "Smartphone",
          "Camera",
          "Processor"
         ],
         "xaxis": "x",
         "y": [
          3725.12,
          28002.33,
          5754.44,
          5539.84,
          16781.84,
          26853.79
         ],
         "yaxis": "y"
        },
        {
         "hovertemplate": "<b>%{hovertext}</b><br><br>Country=Australia<br>product=%{x}<br>average_order_value=%{y}<br>orders=%{marker.size}<extra></extra>",
         "hovertext": [
          "Australia",
          "Australia",
          "Australia",
          "Australia",
          "Australia",
          "Australia"
         ],
         "legendgroup": "Australia",
         "marker": {
          "color": "#00cc96",
          "size": [
           208,
           60,
           317,
           197,
           230,
           165
          ],
          "sizemode": "area",
          "sizeref": 12.1362,
          "symbol": "circle"
         },
         "mode": "markers",
         "name": "Australia",
         "orientation": "v",
         "showlegend": true,
         "type": "scatter",
         "x": [
          "Mouse",
          "Monitor",
          "Smartphone",
          "Camera",
          "Keyboard",
          "Processor"
         ],
         "xaxis": "x",
         "y": [
          1895.36,
          10559.62,
          5137.12,
          8607.9,
          7809.58,
          20914
         ],
         "yaxis": "y"
        },
        {
         "hovertemplate": "<b>%{hovertext}</b><br><br>Country=France<br>product=%{x}<br>average_order_value=%{y}<br>orders=%{marker.size}<extra></extra>",
         "hovertext": [
          "France",
          "France",
          "France",
          "France",
          "France",
          "France"
         ],
         "legendgroup": "France",
         "marker": {
          "color": "#ab63fa",
          "size": [
           1392,
           279,
           1819,
           1262,
           2140,
           1204
          ],
          "sizemode": "area",
          "sizeref": 12.1362,
          "symbol": "circle"
         },
         "mode": "markers",
         "name": "France",
         "orientation": "v",
         "showlegend": true,
         "type": "scatter",
         "x": [
          "Mouse",
          "Monitor",
          "Keyboard",
          "Camera",
          "Smartphone",
          "Processor"
         ],
         "xaxis": "x",
         "y": [
          393.19,
          2278.13,
          793.85,
          1564.01,
          1200.66,
          3380.07
         ],
         "yaxis": "y"
        },
        {
         "hovertemplate": "<b>%{hovertext}</b><br><br>Country=UK<br>product=%{x}<br>average_order_value=%{y}<br>orders=%{marker.size}<extra></extra>",
         "hovertext": [
          "UK",
          "UK",
          "UK",
          "UK",
          "UK",
          "UK"
         ],
         "legendgroup": "UK",
         "marker": {
          "color": "#FFA15A",
          "size": [
           1576,
           276,
           2061,
           1440,
           2312,
           1001
          ],
          "sizemode": "area",
          "sizeref": 12.1362,
          "symbol": "circle"
         },
         "mode": "markers",
         "name": "UK",
         "orientation": "v",
         "showlegend": true,
         "type": "scatter",
         "x": [
          "Mouse",
          "Monitor",
          "Keyboard",
          "Camera",
          "Smartphone",
          "Processor"
         ],
         "xaxis": "x",
         "y": [
          465.55,
          3082.45,
          674.42,
          1746.91,
          1175.99,
          2855.19
         ],
         "yaxis": "y"
        },
        {
         "hovertemplate": "<b>%{hovertext}</b><br><br>Country=Ireland<br>product=%{x}<br>average_order_value=%{y}<br>orders=%{marker.size}<extra></extra>",
         "hovertext": [
          "Ireland",
          "Ireland",
          "Ireland",
          "Ireland",
          "Ireland",
          "Ireland"
         ],
         "legendgroup": "Ireland",
         "marker": {
          "color": "#19d3f3",
          "size": [
           1413,
           314,
           1753,
           1461,
           1973,
           980
          ],
          "sizemode": "area",
          "sizeref": 12.1362,
          "symbol": "circle"
         },
         "mode": "markers",
         "name": "Ireland",
         "orientation": "v",
         "showlegend": true,
         "type": "scatter",
         "x": [
          "Mouse",
          "Monitor",
          "Keyboard",
          "Camera",
          "Smartphone",
          "Processor"
         ],
         "xaxis": "x",
         "y": [
          564.99,
          4234.46,
          1443.43,
          2104.98,
          1747.07,
          4491.19
         ],
         "yaxis": "y"
        },
        {
         "hovertemplate": "<b>%{hovertext}</b><br><br>Country=Netherlands<br>product=%{x}<br>average_order_value=%{y}<br>orders=%{marker.size}<extra></extra>",
         "hovertext": [
          "Netherlands",
          "Netherlands",
          "Netherlands",
          "Netherlands",
          "Netherlands",
          "Netherlands"
         ],
         "legendgroup": "Netherlands",
         "marker": {
          "color": "#FF6692",
          "size": [
           54,
           441,
           489,
           579,
           417,
           346
          ],
          "sizemode": "area",
          "sizeref": 12.1362,
          "symbol": "circle"
         },
         "mode": "markers",
         "name": "Netherlands",
         "orientation": "v",
         "showlegend": true,
         "type": "scatter",
         "x": [
          "Monitor",
          "Mouse",
          "Keyboard",
          "Smartphone",
          "Camera",
          "Processor"
         ],
         "xaxis": "x",
         "y": [
          16733.7,
          2562.3,
          4394.35,
          9453.84,
          13853.24,
          17728.57
         ],
         "yaxis": "y"
        },
        {
         "hovertemplate": "<b>%{hovertext}</b><br><br>Country=Germany<br>product=%{x}<br>average_order_value=%{y}<br>orders=%{marker.size}<extra></extra>",
         "hovertext": [
          "Germany",
          "Germany",
          "Germany",
          "Germany",
          "Germany",
          "Germany"
         ],
         "legendgroup": "Germany",
         "marker": {
          "color": "#B6E880",
          "size": [
           86535,
           20382,
           104233,
           87824,
           121362,
           65283
          ],
          "sizemode": "area",
          "sizeref": 12.1362,
          "symbol": "circle"
         },
         "mode": "markers",
         "name": "Germany",
         "orientation": "v",
         "showlegend": true,
         "type": "scatter",
         "x": [
          "Mouse",
          "Monitor",
          "Keyboard",
          "Camera",
          "Smartphone",
          "Processor"
         ],
         "xaxis": "x",
         "y": [
          313,
          2256.44,
          486.54,
          1186.6,
          1094.4,
          2068.6
         ],
         "yaxis": "y"
        }
       ],
       "layout": {
        "font": {
         "family": "Switzerland",
         "size": 20
        },
        "height": 800,
        "legend": {
         "itemsizing": "constant",
         "title": {
          "text": "Country"
         },
         "tracegroupgap": 0
        },
        "margin": {
         "b": 0,
         "l": 0,
         "r": 0,
         "t": 0
        },
        "plot_bgcolor": "rgba(0,0,0,0)",
        "showlegend": true,
        "template": {
         "data": {
          "bar": [
           {
            "error_x": {
             "color": "#2a3f5f"
            },
            "error_y": {
             "color": "#2a3f5f"
            },
            "marker": {
             "line": {
              "color": "#E5ECF6",
              "width": 0.5
             }
            },
            "type": "bar"
           }
          ],
          "barpolar": [
           {
            "marker": {
             "line": {
              "color": "#E5ECF6",
              "width": 0.5
             }
            },
            "type": "barpolar"
           }
          ],
          "carpet": [
           {
            "aaxis": {
             "endlinecolor": "#2a3f5f",
             "gridcolor": "white",
             "linecolor": "white",
             "minorgridcolor": "white",
             "startlinecolor": "#2a3f5f"
            },
            "baxis": {
             "endlinecolor": "#2a3f5f",
             "gridcolor": "white",
             "linecolor": "white",
             "minorgridcolor": "white",
             "startlinecolor": "#2a3f5f"
            },
            "type": "carpet"
           }
          ],
          "choropleth": [
           {
            "colorbar": {
             "outlinewidth": 0,
             "ticks": ""
            },
            "type": "choropleth"
           }
          ],
          "contour": [
           {
            "colorbar": {
             "outlinewidth": 0,
             "ticks": ""
            },
            "colorscale": [
             [
              0,
              "#0d0887"
             ],
             [
              0.1111111111111111,
              "#46039f"
             ],
             [
              0.2222222222222222,
              "#7201a8"
             ],
             [
              0.3333333333333333,
              "#9c179e"
             ],
             [
              0.4444444444444444,
              "#bd3786"
             ],
             [
              0.5555555555555556,
              "#d8576b"
             ],
             [
              0.6666666666666666,
              "#ed7953"
             ],
             [
              0.7777777777777778,
              "#fb9f3a"
             ],
             [
              0.8888888888888888,
              "#fdca26"
             ],
             [
              1,
              "#f0f921"
             ]
            ],
            "type": "contour"
           }
          ],
          "contourcarpet": [
           {
            "colorbar": {
             "outlinewidth": 0,
             "ticks": ""
            },
            "type": "contourcarpet"
           }
          ],
          "heatmap": [
           {
            "colorbar": {
             "outlinewidth": 0,
             "ticks": ""
            },
            "colorscale": [
             [
              0,
              "#0d0887"
             ],
             [
              0.1111111111111111,
              "#46039f"
             ],
             [
              0.2222222222222222,
              "#7201a8"
             ],
             [
              0.3333333333333333,
              "#9c179e"
             ],
             [
              0.4444444444444444,
              "#bd3786"
             ],
             [
              0.5555555555555556,
              "#d8576b"
             ],
             [
              0.6666666666666666,
              "#ed7953"
             ],
             [
              0.7777777777777778,
              "#fb9f3a"
             ],
             [
              0.8888888888888888,
              "#fdca26"
             ],
             [
              1,
              "#f0f921"
             ]
            ],
            "type": "heatmap"
           }
          ],
          "heatmapgl": [
           {
            "colorbar": {
             "outlinewidth": 0,
             "ticks": ""
            },
            "colorscale": [
             [
              0,
              "#0d0887"
             ],
             [
              0.1111111111111111,
              "#46039f"
             ],
             [
              0.2222222222222222,
              "#7201a8"
             ],
             [
              0.3333333333333333,
              "#9c179e"
             ],
             [
              0.4444444444444444,
              "#bd3786"
             ],
             [
              0.5555555555555556,
              "#d8576b"
             ],
             [
              0.6666666666666666,
              "#ed7953"
             ],
             [
              0.7777777777777778,
              "#fb9f3a"
             ],
             [
              0.8888888888888888,
              "#fdca26"
             ],
             [
              1,
              "#f0f921"
             ]
            ],
            "type": "heatmapgl"
           }
          ],
          "histogram": [
           {
            "marker": {
             "colorbar": {
              "outlinewidth": 0,
              "ticks": ""
             }
            },
            "type": "histogram"
           }
          ],
          "histogram2d": [
           {
            "colorbar": {
             "outlinewidth": 0,
             "ticks": ""
            },
            "colorscale": [
             [
              0,
              "#0d0887"
             ],
             [
              0.1111111111111111,
              "#46039f"
             ],
             [
              0.2222222222222222,
              "#7201a8"
             ],
             [
              0.3333333333333333,
              "#9c179e"
             ],
             [
              0.4444444444444444,
              "#bd3786"
             ],
             [
              0.5555555555555556,
              "#d8576b"
             ],
             [
              0.6666666666666666,
              "#ed7953"
             ],
             [
              0.7777777777777778,
              "#fb9f3a"
             ],
             [
              0.8888888888888888,
              "#fdca26"
             ],
             [
              1,
              "#f0f921"
             ]
            ],
            "type": "histogram2d"
           }
          ],
          "histogram2dcontour": [
           {
            "colorbar": {
             "outlinewidth": 0,
             "ticks": ""
            },
            "colorscale": [
             [
              0,
              "#0d0887"
             ],
             [
              0.1111111111111111,
              "#46039f"
             ],
             [
              0.2222222222222222,
              "#7201a8"
             ],
             [
              0.3333333333333333,
              "#9c179e"
             ],
             [
              0.4444444444444444,
              "#bd3786"
             ],
             [
              0.5555555555555556,
              "#d8576b"
             ],
             [
              0.6666666666666666,
              "#ed7953"
             ],
             [
              0.7777777777777778,
              "#fb9f3a"
             ],
             [
              0.8888888888888888,
              "#fdca26"
             ],
             [
              1,
              "#f0f921"
             ]
            ],
            "type": "histogram2dcontour"
           }
          ],
          "mesh3d": [
           {
            "colorbar": {
             "outlinewidth": 0,
             "ticks": ""
            },
            "type": "mesh3d"
           }
          ],
          "parcoords": [
           {
            "line": {
             "colorbar": {
              "outlinewidth": 0,
              "ticks": ""
             }
            },
            "type": "parcoords"
           }
          ],
          "pie": [
           {
            "automargin": true,
            "type": "pie"
           }
          ],
          "scatter": [
           {
            "marker": {
             "colorbar": {
              "outlinewidth": 0,
              "ticks": ""
             }
            },
            "type": "scatter"
           }
          ],
          "scatter3d": [
           {
            "line": {
             "colorbar": {
              "outlinewidth": 0,
              "ticks": ""
             }
            },
            "marker": {
             "colorbar": {
              "outlinewidth": 0,
              "ticks": ""
             }
            },
            "type": "scatter3d"
           }
          ],
          "scattercarpet": [
           {
            "marker": {
             "colorbar": {
              "outlinewidth": 0,
              "ticks": ""
             }
            },
            "type": "scattercarpet"
           }
          ],
          "scattergeo": [
           {
            "marker": {
             "colorbar": {
              "outlinewidth": 0,
              "ticks": ""
             }
            },
            "type": "scattergeo"
           }
          ],
          "scattergl": [
           {
            "marker": {
             "colorbar": {
              "outlinewidth": 0,
              "ticks": ""
             }
            },
            "type": "scattergl"
           }
          ],
          "scattermapbox": [
           {
            "marker": {
             "colorbar": {
              "outlinewidth": 0,
              "ticks": ""
             }
            },
            "type": "scattermapbox"
           }
          ],
          "scatterpolar": [
           {
            "marker": {
             "colorbar": {
              "outlinewidth": 0,
              "ticks": ""
             }
            },
            "type": "scatterpolar"
           }
          ],
          "scatterpolargl": [
           {
            "marker": {
             "colorbar": {
              "outlinewidth": 0,
              "ticks": ""
             }
            },
            "type": "scatterpolargl"
           }
          ],
          "scatterternary": [
           {
            "marker": {
             "colorbar": {
              "outlinewidth": 0,
              "ticks": ""
             }
            },
            "type": "scatterternary"
           }
          ],
          "surface": [
           {
            "colorbar": {
             "outlinewidth": 0,
             "ticks": ""
            },
            "colorscale": [
             [
              0,
              "#0d0887"
             ],
             [
              0.1111111111111111,
              "#46039f"
             ],
             [
              0.2222222222222222,
              "#7201a8"
             ],
             [
              0.3333333333333333,
              "#9c179e"
             ],
             [
              0.4444444444444444,
              "#bd3786"
             ],
             [
              0.5555555555555556,
              "#d8576b"
             ],
             [
              0.6666666666666666,
              "#ed7953"
             ],
             [
              0.7777777777777778,
              "#fb9f3a"
             ],
             [
              0.8888888888888888,
              "#fdca26"
             ],
             [
              1,
              "#f0f921"
             ]
            ],
            "type": "surface"
           }
          ],
          "table": [
           {
            "cells": {
             "fill": {
              "color": "#EBF0F8"
             },
             "line": {
              "color": "white"
             }
            },
            "header": {
             "fill": {
              "color": "#C8D4E3"
             },
             "line": {
              "color": "white"
             }
            },
            "type": "table"
           }
          ]
         },
         "layout": {
          "annotationdefaults": {
           "arrowcolor": "#2a3f5f",
           "arrowhead": 0,
           "arrowwidth": 1
          },
          "autotypenumbers": "strict",
          "coloraxis": {
           "colorbar": {
            "outlinewidth": 0,
            "ticks": ""
           }
          },
          "colorscale": {
           "diverging": [
            [
             0,
             "#8e0152"
            ],
            [
             0.1,
             "#c51b7d"
            ],
            [
             0.2,
             "#de77ae"
            ],
            [
             0.3,
             "#f1b6da"
            ],
            [
             0.4,
             "#fde0ef"
            ],
            [
             0.5,
             "#f7f7f7"
            ],
            [
             0.6,
             "#e6f5d0"
            ],
            [
             0.7,
             "#b8e186"
            ],
            [
             0.8,
             "#7fbc41"
            ],
            [
             0.9,
             "#4d9221"
            ],
            [
             1,
             "#276419"
            ]
           ],
           "sequential": [
            [
             0,
             "#0d0887"
            ],
            [
             0.1111111111111111,
             "#46039f"
            ],
            [
             0.2222222222222222,
             "#7201a8"
            ],
            [
             0.3333333333333333,
             "#9c179e"
            ],
            [
             0.4444444444444444,
             "#bd3786"
            ],
            [
             0.5555555555555556,
             "#d8576b"
            ],
            [
             0.6666666666666666,
             "#ed7953"
            ],
            [
             0.7777777777777778,
             "#fb9f3a"
            ],
            [
             0.8888888888888888,
             "#fdca26"
            ],
            [
             1,
             "#f0f921"
            ]
           ],
           "sequentialminus": [
            [
             0,
             "#0d0887"
            ],
            [
             0.1111111111111111,
             "#46039f"
            ],
            [
             0.2222222222222222,
             "#7201a8"
            ],
            [
             0.3333333333333333,
             "#9c179e"
            ],
            [
             0.4444444444444444,
             "#bd3786"
            ],
            [
             0.5555555555555556,
             "#d8576b"
            ],
            [
             0.6666666666666666,
             "#ed7953"
            ],
            [
             0.7777777777777778,
             "#fb9f3a"
            ],
            [
             0.8888888888888888,
             "#fdca26"
            ],
            [
             1,
             "#f0f921"
            ]
           ]
          },
          "colorway": [
           "#636efa",
           "#EF553B",
           "#00cc96",
           "#ab63fa",
           "#FFA15A",
           "#19d3f3",
           "#FF6692",
           "#B6E880",
           "#FF97FF",
           "#FECB52"
          ],
          "font": {
           "color": "#2a3f5f"
          },
          "geo": {
           "bgcolor": "white",
           "lakecolor": "white",
           "landcolor": "#E5ECF6",
           "showlakes": true,
           "showland": true,
           "subunitcolor": "white"
          },
          "hoverlabel": {
           "align": "left"
          },
          "hovermode": "closest",
          "mapbox": {
           "style": "light"
          },
          "paper_bgcolor": "white",
          "plot_bgcolor": "#E5ECF6",
          "polar": {
           "angularaxis": {
            "gridcolor": "white",
            "linecolor": "white",
            "ticks": ""
           },
           "bgcolor": "#E5ECF6",
           "radialaxis": {
            "gridcolor": "white",
            "linecolor": "white",
            "ticks": ""
           }
          },
          "scene": {
           "xaxis": {
            "backgroundcolor": "#E5ECF6",
            "gridcolor": "white",
            "gridwidth": 2,
            "linecolor": "white",
            "showbackground": true,
            "ticks": "",
            "zerolinecolor": "white"
           },
           "yaxis": {
            "backgroundcolor": "#E5ECF6",
            "gridcolor": "white",
            "gridwidth": 2,
            "linecolor": "white",
            "showbackground": true,
            "ticks": "",
            "zerolinecolor": "white"
           },
           "zaxis": {
            "backgroundcolor": "#E5ECF6",
            "gridcolor": "white",
            "gridwidth": 2,
            "linecolor": "white",
            "showbackground": true,
            "ticks": "",
            "zerolinecolor": "white"
           }
          },
          "shapedefaults": {
           "line": {
            "color": "#2a3f5f"
           }
          },
          "ternary": {
           "aaxis": {
            "gridcolor": "white",
            "linecolor": "white",
            "ticks": ""
           },
           "baxis": {
            "gridcolor": "white",
            "linecolor": "white",
            "ticks": ""
           },
           "bgcolor": "#E5ECF6",
           "caxis": {
            "gridcolor": "white",
            "linecolor": "white",
            "ticks": ""
           }
          },
          "title": {
           "x": 0.05
          },
          "xaxis": {
           "automargin": true,
           "gridcolor": "white",
           "linecolor": "white",
           "ticks": "",
           "title": {
            "standoff": 15
           },
           "zerolinecolor": "white",
           "zerolinewidth": 2
          },
          "yaxis": {
           "automargin": true,
           "gridcolor": "white",
           "linecolor": "white",
           "ticks": "",
           "title": {
            "standoff": 15
           },
           "zerolinecolor": "white",
           "zerolinewidth": 2
          }
         }
        },
        "width": 1800,
        "xaxis": {
         "anchor": "y",
         "domain": [
          0,
          1
         ],
         "showgrid": false,
         "showline": false,
         "title": {
          "text": "Products"
         }
        },
        "yaxis": {
         "anchor": "x",
         "domain": [
          0,
          1
         ],
         "showgrid": false,
         "showline": false,
         "title": {
          "text": "Average Order Value and Orders Sum"
         }
        }
       }
      }
     },
     "metadata": {}
    }
   ],
   "source": [
    "fig2 = px.scatter(df, x=\"product\", y=\"average_order_value\", color = 'Country',\n",
    "\t         size=\"orders\",\n",
    "                 hover_name=\"Country\", size_max=100)\n",
    "fig2.update_xaxes(\n",
    "     title_text = 'Products',\n",
    "     showline = False, showgrid = False\n",
    "     )\n",
    "fig2.update_yaxes(\n",
    "     title_text = 'Average Order Value and Orders Sum',\n",
    "     showline = False, showgrid = False\n",
    "     )\n",
    "fig2.update_layout(\n",
    "     plot_bgcolor='rgba(0,0,0,0)',\n",
    "     width=1800,\n",
    "     height=800,\n",
    "     margin={\"r\":0,\"t\":0,\"l\":0,\"b\":0},\n",
    "     showlegend = True,\n",
    "     font_family = \"Switzerland\",\n",
    "     font_size=20)\n",
    "fig2.show()"
   ]
  },
  {
   "cell_type": "code",
   "execution_count": 29,
   "metadata": {},
   "outputs": [],
   "source": [
    "fig2.write_html(\"ecommerce_graphs_product_average.html\")"
   ]
  }
 ]
}